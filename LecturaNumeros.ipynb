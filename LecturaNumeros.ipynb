{
 "cells": [
  {
   "cell_type": "code",
   "execution_count": 1,
   "metadata": {},
   "outputs": [],
   "source": [
    "import pandas as pd\n",
    "import numpy as np\n",
    "import matplotlib.pyplot as plt\n",
    "import NeuralNetwork"
   ]
  },
  {
   "cell_type": "code",
   "execution_count": 2,
   "metadata": {},
   "outputs": [],
   "source": [
    "test_data = pd.read_csv(\"./Data/mnist_test.csv\")\n",
    "images_array_test = [test_data.loc[i].to_numpy() for i in range(test_data.shape[0])]\n",
    "images_array_test = [images_array_test[i][1:].reshape(28,28) for i in range(test_data.shape[0])]\n",
    "images_label_test  = [test_data.loc[i][0] for i in range(test_data.shape[0])]"
   ]
  },
  {
   "cell_type": "code",
   "execution_count": 3,
   "metadata": {},
   "outputs": [
    {
     "data": {
      "text/html": [
       "<div>\n",
       "<style scoped>\n",
       "    .dataframe tbody tr th:only-of-type {\n",
       "        vertical-align: middle;\n",
       "    }\n",
       "\n",
       "    .dataframe tbody tr th {\n",
       "        vertical-align: top;\n",
       "    }\n",
       "\n",
       "    .dataframe thead th {\n",
       "        text-align: right;\n",
       "    }\n",
       "</style>\n",
       "<table border=\"1\" class=\"dataframe\">\n",
       "  <thead>\n",
       "    <tr style=\"text-align: right;\">\n",
       "      <th></th>\n",
       "      <th>label</th>\n",
       "      <th>pixel1</th>\n",
       "      <th>pixel2</th>\n",
       "      <th>pixel3</th>\n",
       "      <th>pixel4</th>\n",
       "      <th>pixel5</th>\n",
       "      <th>pixel6</th>\n",
       "      <th>pixel7</th>\n",
       "      <th>pixel8</th>\n",
       "      <th>pixel9</th>\n",
       "      <th>...</th>\n",
       "      <th>pixel775</th>\n",
       "      <th>pixel776</th>\n",
       "      <th>pixel777</th>\n",
       "      <th>pixel778</th>\n",
       "      <th>pixel779</th>\n",
       "      <th>pixel780</th>\n",
       "      <th>pixel781</th>\n",
       "      <th>pixel782</th>\n",
       "      <th>pixel783</th>\n",
       "      <th>pixel784</th>\n",
       "    </tr>\n",
       "  </thead>\n",
       "  <tbody>\n",
       "    <tr>\n",
       "      <th>0</th>\n",
       "      <td>7</td>\n",
       "      <td>0</td>\n",
       "      <td>0</td>\n",
       "      <td>0</td>\n",
       "      <td>0</td>\n",
       "      <td>0</td>\n",
       "      <td>0</td>\n",
       "      <td>0</td>\n",
       "      <td>0</td>\n",
       "      <td>0</td>\n",
       "      <td>...</td>\n",
       "      <td>0</td>\n",
       "      <td>0</td>\n",
       "      <td>0</td>\n",
       "      <td>0</td>\n",
       "      <td>0</td>\n",
       "      <td>0</td>\n",
       "      <td>0</td>\n",
       "      <td>0</td>\n",
       "      <td>0</td>\n",
       "      <td>0</td>\n",
       "    </tr>\n",
       "    <tr>\n",
       "      <th>1</th>\n",
       "      <td>2</td>\n",
       "      <td>0</td>\n",
       "      <td>0</td>\n",
       "      <td>0</td>\n",
       "      <td>0</td>\n",
       "      <td>0</td>\n",
       "      <td>0</td>\n",
       "      <td>0</td>\n",
       "      <td>0</td>\n",
       "      <td>0</td>\n",
       "      <td>...</td>\n",
       "      <td>0</td>\n",
       "      <td>0</td>\n",
       "      <td>0</td>\n",
       "      <td>0</td>\n",
       "      <td>0</td>\n",
       "      <td>0</td>\n",
       "      <td>0</td>\n",
       "      <td>0</td>\n",
       "      <td>0</td>\n",
       "      <td>0</td>\n",
       "    </tr>\n",
       "    <tr>\n",
       "      <th>2</th>\n",
       "      <td>1</td>\n",
       "      <td>0</td>\n",
       "      <td>0</td>\n",
       "      <td>0</td>\n",
       "      <td>0</td>\n",
       "      <td>0</td>\n",
       "      <td>0</td>\n",
       "      <td>0</td>\n",
       "      <td>0</td>\n",
       "      <td>0</td>\n",
       "      <td>...</td>\n",
       "      <td>0</td>\n",
       "      <td>0</td>\n",
       "      <td>0</td>\n",
       "      <td>0</td>\n",
       "      <td>0</td>\n",
       "      <td>0</td>\n",
       "      <td>0</td>\n",
       "      <td>0</td>\n",
       "      <td>0</td>\n",
       "      <td>0</td>\n",
       "    </tr>\n",
       "    <tr>\n",
       "      <th>3</th>\n",
       "      <td>0</td>\n",
       "      <td>0</td>\n",
       "      <td>0</td>\n",
       "      <td>0</td>\n",
       "      <td>0</td>\n",
       "      <td>0</td>\n",
       "      <td>0</td>\n",
       "      <td>0</td>\n",
       "      <td>0</td>\n",
       "      <td>0</td>\n",
       "      <td>...</td>\n",
       "      <td>0</td>\n",
       "      <td>0</td>\n",
       "      <td>0</td>\n",
       "      <td>0</td>\n",
       "      <td>0</td>\n",
       "      <td>0</td>\n",
       "      <td>0</td>\n",
       "      <td>0</td>\n",
       "      <td>0</td>\n",
       "      <td>0</td>\n",
       "    </tr>\n",
       "    <tr>\n",
       "      <th>4</th>\n",
       "      <td>4</td>\n",
       "      <td>0</td>\n",
       "      <td>0</td>\n",
       "      <td>0</td>\n",
       "      <td>0</td>\n",
       "      <td>0</td>\n",
       "      <td>0</td>\n",
       "      <td>0</td>\n",
       "      <td>0</td>\n",
       "      <td>0</td>\n",
       "      <td>...</td>\n",
       "      <td>0</td>\n",
       "      <td>0</td>\n",
       "      <td>0</td>\n",
       "      <td>0</td>\n",
       "      <td>0</td>\n",
       "      <td>0</td>\n",
       "      <td>0</td>\n",
       "      <td>0</td>\n",
       "      <td>0</td>\n",
       "      <td>0</td>\n",
       "    </tr>\n",
       "    <tr>\n",
       "      <th>...</th>\n",
       "      <td>...</td>\n",
       "      <td>...</td>\n",
       "      <td>...</td>\n",
       "      <td>...</td>\n",
       "      <td>...</td>\n",
       "      <td>...</td>\n",
       "      <td>...</td>\n",
       "      <td>...</td>\n",
       "      <td>...</td>\n",
       "      <td>...</td>\n",
       "      <td>...</td>\n",
       "      <td>...</td>\n",
       "      <td>...</td>\n",
       "      <td>...</td>\n",
       "      <td>...</td>\n",
       "      <td>...</td>\n",
       "      <td>...</td>\n",
       "      <td>...</td>\n",
       "      <td>...</td>\n",
       "      <td>...</td>\n",
       "      <td>...</td>\n",
       "    </tr>\n",
       "    <tr>\n",
       "      <th>9995</th>\n",
       "      <td>2</td>\n",
       "      <td>0</td>\n",
       "      <td>0</td>\n",
       "      <td>0</td>\n",
       "      <td>0</td>\n",
       "      <td>0</td>\n",
       "      <td>0</td>\n",
       "      <td>0</td>\n",
       "      <td>0</td>\n",
       "      <td>0</td>\n",
       "      <td>...</td>\n",
       "      <td>0</td>\n",
       "      <td>0</td>\n",
       "      <td>0</td>\n",
       "      <td>0</td>\n",
       "      <td>0</td>\n",
       "      <td>0</td>\n",
       "      <td>0</td>\n",
       "      <td>0</td>\n",
       "      <td>0</td>\n",
       "      <td>0</td>\n",
       "    </tr>\n",
       "    <tr>\n",
       "      <th>9996</th>\n",
       "      <td>3</td>\n",
       "      <td>0</td>\n",
       "      <td>0</td>\n",
       "      <td>0</td>\n",
       "      <td>0</td>\n",
       "      <td>0</td>\n",
       "      <td>0</td>\n",
       "      <td>0</td>\n",
       "      <td>0</td>\n",
       "      <td>0</td>\n",
       "      <td>...</td>\n",
       "      <td>0</td>\n",
       "      <td>0</td>\n",
       "      <td>0</td>\n",
       "      <td>0</td>\n",
       "      <td>0</td>\n",
       "      <td>0</td>\n",
       "      <td>0</td>\n",
       "      <td>0</td>\n",
       "      <td>0</td>\n",
       "      <td>0</td>\n",
       "    </tr>\n",
       "    <tr>\n",
       "      <th>9997</th>\n",
       "      <td>4</td>\n",
       "      <td>0</td>\n",
       "      <td>0</td>\n",
       "      <td>0</td>\n",
       "      <td>0</td>\n",
       "      <td>0</td>\n",
       "      <td>0</td>\n",
       "      <td>0</td>\n",
       "      <td>0</td>\n",
       "      <td>0</td>\n",
       "      <td>...</td>\n",
       "      <td>0</td>\n",
       "      <td>0</td>\n",
       "      <td>0</td>\n",
       "      <td>0</td>\n",
       "      <td>0</td>\n",
       "      <td>0</td>\n",
       "      <td>0</td>\n",
       "      <td>0</td>\n",
       "      <td>0</td>\n",
       "      <td>0</td>\n",
       "    </tr>\n",
       "    <tr>\n",
       "      <th>9998</th>\n",
       "      <td>5</td>\n",
       "      <td>0</td>\n",
       "      <td>0</td>\n",
       "      <td>0</td>\n",
       "      <td>0</td>\n",
       "      <td>0</td>\n",
       "      <td>0</td>\n",
       "      <td>0</td>\n",
       "      <td>0</td>\n",
       "      <td>0</td>\n",
       "      <td>...</td>\n",
       "      <td>0</td>\n",
       "      <td>0</td>\n",
       "      <td>0</td>\n",
       "      <td>0</td>\n",
       "      <td>0</td>\n",
       "      <td>0</td>\n",
       "      <td>0</td>\n",
       "      <td>0</td>\n",
       "      <td>0</td>\n",
       "      <td>0</td>\n",
       "    </tr>\n",
       "    <tr>\n",
       "      <th>9999</th>\n",
       "      <td>6</td>\n",
       "      <td>0</td>\n",
       "      <td>0</td>\n",
       "      <td>0</td>\n",
       "      <td>0</td>\n",
       "      <td>0</td>\n",
       "      <td>0</td>\n",
       "      <td>0</td>\n",
       "      <td>0</td>\n",
       "      <td>0</td>\n",
       "      <td>...</td>\n",
       "      <td>0</td>\n",
       "      <td>0</td>\n",
       "      <td>0</td>\n",
       "      <td>0</td>\n",
       "      <td>0</td>\n",
       "      <td>0</td>\n",
       "      <td>0</td>\n",
       "      <td>0</td>\n",
       "      <td>0</td>\n",
       "      <td>0</td>\n",
       "    </tr>\n",
       "  </tbody>\n",
       "</table>\n",
       "<p>10000 rows × 785 columns</p>\n",
       "</div>"
      ],
      "text/plain": [
       "      label  pixel1  pixel2  pixel3  pixel4  pixel5  pixel6  pixel7  pixel8  \\\n",
       "0         7       0       0       0       0       0       0       0       0   \n",
       "1         2       0       0       0       0       0       0       0       0   \n",
       "2         1       0       0       0       0       0       0       0       0   \n",
       "3         0       0       0       0       0       0       0       0       0   \n",
       "4         4       0       0       0       0       0       0       0       0   \n",
       "...     ...     ...     ...     ...     ...     ...     ...     ...     ...   \n",
       "9995      2       0       0       0       0       0       0       0       0   \n",
       "9996      3       0       0       0       0       0       0       0       0   \n",
       "9997      4       0       0       0       0       0       0       0       0   \n",
       "9998      5       0       0       0       0       0       0       0       0   \n",
       "9999      6       0       0       0       0       0       0       0       0   \n",
       "\n",
       "      pixel9  ...  pixel775  pixel776  pixel777  pixel778  pixel779  pixel780  \\\n",
       "0          0  ...         0         0         0         0         0         0   \n",
       "1          0  ...         0         0         0         0         0         0   \n",
       "2          0  ...         0         0         0         0         0         0   \n",
       "3          0  ...         0         0         0         0         0         0   \n",
       "4          0  ...         0         0         0         0         0         0   \n",
       "...      ...  ...       ...       ...       ...       ...       ...       ...   \n",
       "9995       0  ...         0         0         0         0         0         0   \n",
       "9996       0  ...         0         0         0         0         0         0   \n",
       "9997       0  ...         0         0         0         0         0         0   \n",
       "9998       0  ...         0         0         0         0         0         0   \n",
       "9999       0  ...         0         0         0         0         0         0   \n",
       "\n",
       "      pixel781  pixel782  pixel783  pixel784  \n",
       "0            0         0         0         0  \n",
       "1            0         0         0         0  \n",
       "2            0         0         0         0  \n",
       "3            0         0         0         0  \n",
       "4            0         0         0         0  \n",
       "...        ...       ...       ...       ...  \n",
       "9995         0         0         0         0  \n",
       "9996         0         0         0         0  \n",
       "9997         0         0         0         0  \n",
       "9998         0         0         0         0  \n",
       "9999         0         0         0         0  \n",
       "\n",
       "[10000 rows x 785 columns]"
      ]
     },
     "execution_count": 3,
     "metadata": {},
     "output_type": "execute_result"
    }
   ],
   "source": [
    "test_data"
   ]
  },
  {
   "cell_type": "code",
   "execution_count": 4,
   "metadata": {},
   "outputs": [
    {
     "data": {
      "text/html": [
       "<div>\n",
       "<style scoped>\n",
       "    .dataframe tbody tr th:only-of-type {\n",
       "        vertical-align: middle;\n",
       "    }\n",
       "\n",
       "    .dataframe tbody tr th {\n",
       "        vertical-align: top;\n",
       "    }\n",
       "\n",
       "    .dataframe thead th {\n",
       "        text-align: right;\n",
       "    }\n",
       "</style>\n",
       "<table border=\"1\" class=\"dataframe\">\n",
       "  <thead>\n",
       "    <tr style=\"text-align: right;\">\n",
       "      <th></th>\n",
       "      <th>label</th>\n",
       "      <th>pixel1</th>\n",
       "      <th>pixel2</th>\n",
       "      <th>pixel3</th>\n",
       "      <th>pixel4</th>\n",
       "      <th>pixel5</th>\n",
       "      <th>pixel6</th>\n",
       "      <th>pixel7</th>\n",
       "      <th>pixel8</th>\n",
       "      <th>pixel9</th>\n",
       "      <th>...</th>\n",
       "      <th>pixel775</th>\n",
       "      <th>pixel776</th>\n",
       "      <th>pixel777</th>\n",
       "      <th>pixel778</th>\n",
       "      <th>pixel779</th>\n",
       "      <th>pixel780</th>\n",
       "      <th>pixel781</th>\n",
       "      <th>pixel782</th>\n",
       "      <th>pixel783</th>\n",
       "      <th>pixel784</th>\n",
       "    </tr>\n",
       "  </thead>\n",
       "  <tbody>\n",
       "    <tr>\n",
       "      <th>0</th>\n",
       "      <td>5</td>\n",
       "      <td>0</td>\n",
       "      <td>0</td>\n",
       "      <td>0</td>\n",
       "      <td>0</td>\n",
       "      <td>0</td>\n",
       "      <td>0</td>\n",
       "      <td>0</td>\n",
       "      <td>0</td>\n",
       "      <td>0</td>\n",
       "      <td>...</td>\n",
       "      <td>0</td>\n",
       "      <td>0</td>\n",
       "      <td>0</td>\n",
       "      <td>0</td>\n",
       "      <td>0</td>\n",
       "      <td>0</td>\n",
       "      <td>0</td>\n",
       "      <td>0</td>\n",
       "      <td>0</td>\n",
       "      <td>0</td>\n",
       "    </tr>\n",
       "    <tr>\n",
       "      <th>1</th>\n",
       "      <td>0</td>\n",
       "      <td>0</td>\n",
       "      <td>0</td>\n",
       "      <td>0</td>\n",
       "      <td>0</td>\n",
       "      <td>0</td>\n",
       "      <td>0</td>\n",
       "      <td>0</td>\n",
       "      <td>0</td>\n",
       "      <td>0</td>\n",
       "      <td>...</td>\n",
       "      <td>0</td>\n",
       "      <td>0</td>\n",
       "      <td>0</td>\n",
       "      <td>0</td>\n",
       "      <td>0</td>\n",
       "      <td>0</td>\n",
       "      <td>0</td>\n",
       "      <td>0</td>\n",
       "      <td>0</td>\n",
       "      <td>0</td>\n",
       "    </tr>\n",
       "    <tr>\n",
       "      <th>2</th>\n",
       "      <td>4</td>\n",
       "      <td>0</td>\n",
       "      <td>0</td>\n",
       "      <td>0</td>\n",
       "      <td>0</td>\n",
       "      <td>0</td>\n",
       "      <td>0</td>\n",
       "      <td>0</td>\n",
       "      <td>0</td>\n",
       "      <td>0</td>\n",
       "      <td>...</td>\n",
       "      <td>0</td>\n",
       "      <td>0</td>\n",
       "      <td>0</td>\n",
       "      <td>0</td>\n",
       "      <td>0</td>\n",
       "      <td>0</td>\n",
       "      <td>0</td>\n",
       "      <td>0</td>\n",
       "      <td>0</td>\n",
       "      <td>0</td>\n",
       "    </tr>\n",
       "    <tr>\n",
       "      <th>3</th>\n",
       "      <td>1</td>\n",
       "      <td>0</td>\n",
       "      <td>0</td>\n",
       "      <td>0</td>\n",
       "      <td>0</td>\n",
       "      <td>0</td>\n",
       "      <td>0</td>\n",
       "      <td>0</td>\n",
       "      <td>0</td>\n",
       "      <td>0</td>\n",
       "      <td>...</td>\n",
       "      <td>0</td>\n",
       "      <td>0</td>\n",
       "      <td>0</td>\n",
       "      <td>0</td>\n",
       "      <td>0</td>\n",
       "      <td>0</td>\n",
       "      <td>0</td>\n",
       "      <td>0</td>\n",
       "      <td>0</td>\n",
       "      <td>0</td>\n",
       "    </tr>\n",
       "    <tr>\n",
       "      <th>4</th>\n",
       "      <td>9</td>\n",
       "      <td>0</td>\n",
       "      <td>0</td>\n",
       "      <td>0</td>\n",
       "      <td>0</td>\n",
       "      <td>0</td>\n",
       "      <td>0</td>\n",
       "      <td>0</td>\n",
       "      <td>0</td>\n",
       "      <td>0</td>\n",
       "      <td>...</td>\n",
       "      <td>0</td>\n",
       "      <td>0</td>\n",
       "      <td>0</td>\n",
       "      <td>0</td>\n",
       "      <td>0</td>\n",
       "      <td>0</td>\n",
       "      <td>0</td>\n",
       "      <td>0</td>\n",
       "      <td>0</td>\n",
       "      <td>0</td>\n",
       "    </tr>\n",
       "    <tr>\n",
       "      <th>...</th>\n",
       "      <td>...</td>\n",
       "      <td>...</td>\n",
       "      <td>...</td>\n",
       "      <td>...</td>\n",
       "      <td>...</td>\n",
       "      <td>...</td>\n",
       "      <td>...</td>\n",
       "      <td>...</td>\n",
       "      <td>...</td>\n",
       "      <td>...</td>\n",
       "      <td>...</td>\n",
       "      <td>...</td>\n",
       "      <td>...</td>\n",
       "      <td>...</td>\n",
       "      <td>...</td>\n",
       "      <td>...</td>\n",
       "      <td>...</td>\n",
       "      <td>...</td>\n",
       "      <td>...</td>\n",
       "      <td>...</td>\n",
       "      <td>...</td>\n",
       "    </tr>\n",
       "    <tr>\n",
       "      <th>59995</th>\n",
       "      <td>8</td>\n",
       "      <td>0</td>\n",
       "      <td>0</td>\n",
       "      <td>0</td>\n",
       "      <td>0</td>\n",
       "      <td>0</td>\n",
       "      <td>0</td>\n",
       "      <td>0</td>\n",
       "      <td>0</td>\n",
       "      <td>0</td>\n",
       "      <td>...</td>\n",
       "      <td>0</td>\n",
       "      <td>0</td>\n",
       "      <td>0</td>\n",
       "      <td>0</td>\n",
       "      <td>0</td>\n",
       "      <td>0</td>\n",
       "      <td>0</td>\n",
       "      <td>0</td>\n",
       "      <td>0</td>\n",
       "      <td>0</td>\n",
       "    </tr>\n",
       "    <tr>\n",
       "      <th>59996</th>\n",
       "      <td>3</td>\n",
       "      <td>0</td>\n",
       "      <td>0</td>\n",
       "      <td>0</td>\n",
       "      <td>0</td>\n",
       "      <td>0</td>\n",
       "      <td>0</td>\n",
       "      <td>0</td>\n",
       "      <td>0</td>\n",
       "      <td>0</td>\n",
       "      <td>...</td>\n",
       "      <td>0</td>\n",
       "      <td>0</td>\n",
       "      <td>0</td>\n",
       "      <td>0</td>\n",
       "      <td>0</td>\n",
       "      <td>0</td>\n",
       "      <td>0</td>\n",
       "      <td>0</td>\n",
       "      <td>0</td>\n",
       "      <td>0</td>\n",
       "    </tr>\n",
       "    <tr>\n",
       "      <th>59997</th>\n",
       "      <td>5</td>\n",
       "      <td>0</td>\n",
       "      <td>0</td>\n",
       "      <td>0</td>\n",
       "      <td>0</td>\n",
       "      <td>0</td>\n",
       "      <td>0</td>\n",
       "      <td>0</td>\n",
       "      <td>0</td>\n",
       "      <td>0</td>\n",
       "      <td>...</td>\n",
       "      <td>0</td>\n",
       "      <td>0</td>\n",
       "      <td>0</td>\n",
       "      <td>0</td>\n",
       "      <td>0</td>\n",
       "      <td>0</td>\n",
       "      <td>0</td>\n",
       "      <td>0</td>\n",
       "      <td>0</td>\n",
       "      <td>0</td>\n",
       "    </tr>\n",
       "    <tr>\n",
       "      <th>59998</th>\n",
       "      <td>6</td>\n",
       "      <td>0</td>\n",
       "      <td>0</td>\n",
       "      <td>0</td>\n",
       "      <td>0</td>\n",
       "      <td>0</td>\n",
       "      <td>0</td>\n",
       "      <td>0</td>\n",
       "      <td>0</td>\n",
       "      <td>0</td>\n",
       "      <td>...</td>\n",
       "      <td>0</td>\n",
       "      <td>0</td>\n",
       "      <td>0</td>\n",
       "      <td>0</td>\n",
       "      <td>0</td>\n",
       "      <td>0</td>\n",
       "      <td>0</td>\n",
       "      <td>0</td>\n",
       "      <td>0</td>\n",
       "      <td>0</td>\n",
       "    </tr>\n",
       "    <tr>\n",
       "      <th>59999</th>\n",
       "      <td>8</td>\n",
       "      <td>0</td>\n",
       "      <td>0</td>\n",
       "      <td>0</td>\n",
       "      <td>0</td>\n",
       "      <td>0</td>\n",
       "      <td>0</td>\n",
       "      <td>0</td>\n",
       "      <td>0</td>\n",
       "      <td>0</td>\n",
       "      <td>...</td>\n",
       "      <td>0</td>\n",
       "      <td>0</td>\n",
       "      <td>0</td>\n",
       "      <td>0</td>\n",
       "      <td>0</td>\n",
       "      <td>0</td>\n",
       "      <td>0</td>\n",
       "      <td>0</td>\n",
       "      <td>0</td>\n",
       "      <td>0</td>\n",
       "    </tr>\n",
       "  </tbody>\n",
       "</table>\n",
       "<p>60000 rows × 785 columns</p>\n",
       "</div>"
      ],
      "text/plain": [
       "       label  pixel1  pixel2  pixel3  pixel4  pixel5  pixel6  pixel7  pixel8  \\\n",
       "0          5       0       0       0       0       0       0       0       0   \n",
       "1          0       0       0       0       0       0       0       0       0   \n",
       "2          4       0       0       0       0       0       0       0       0   \n",
       "3          1       0       0       0       0       0       0       0       0   \n",
       "4          9       0       0       0       0       0       0       0       0   \n",
       "...      ...     ...     ...     ...     ...     ...     ...     ...     ...   \n",
       "59995      8       0       0       0       0       0       0       0       0   \n",
       "59996      3       0       0       0       0       0       0       0       0   \n",
       "59997      5       0       0       0       0       0       0       0       0   \n",
       "59998      6       0       0       0       0       0       0       0       0   \n",
       "59999      8       0       0       0       0       0       0       0       0   \n",
       "\n",
       "       pixel9  ...  pixel775  pixel776  pixel777  pixel778  pixel779  \\\n",
       "0           0  ...         0         0         0         0         0   \n",
       "1           0  ...         0         0         0         0         0   \n",
       "2           0  ...         0         0         0         0         0   \n",
       "3           0  ...         0         0         0         0         0   \n",
       "4           0  ...         0         0         0         0         0   \n",
       "...       ...  ...       ...       ...       ...       ...       ...   \n",
       "59995       0  ...         0         0         0         0         0   \n",
       "59996       0  ...         0         0         0         0         0   \n",
       "59997       0  ...         0         0         0         0         0   \n",
       "59998       0  ...         0         0         0         0         0   \n",
       "59999       0  ...         0         0         0         0         0   \n",
       "\n",
       "       pixel780  pixel781  pixel782  pixel783  pixel784  \n",
       "0             0         0         0         0         0  \n",
       "1             0         0         0         0         0  \n",
       "2             0         0         0         0         0  \n",
       "3             0         0         0         0         0  \n",
       "4             0         0         0         0         0  \n",
       "...         ...       ...       ...       ...       ...  \n",
       "59995         0         0         0         0         0  \n",
       "59996         0         0         0         0         0  \n",
       "59997         0         0         0         0         0  \n",
       "59998         0         0         0         0         0  \n",
       "59999         0         0         0         0         0  \n",
       "\n",
       "[60000 rows x 785 columns]"
      ]
     },
     "execution_count": 4,
     "metadata": {},
     "output_type": "execute_result"
    }
   ],
   "source": [
    "data = pd.read_csv(\"./Data/mnist_train.csv\")\n",
    "data"
   ]
  },
  {
   "cell_type": "code",
   "execution_count": 5,
   "metadata": {},
   "outputs": [],
   "source": [
    "# images_array_visual = [images_array[i][1:].reshape(28,28) for i in range(data.shape[0])]"
   ]
  },
  {
   "cell_type": "code",
   "execution_count": 6,
   "metadata": {},
   "outputs": [],
   "source": [
    "# X test\n",
    "X_test = [test_data.loc[i].to_numpy() for i in range(test_data.shape[0])]\n",
    "# images_array = np.array([images_array[i][1:] for i in range(data.shape[0])])\n",
    "X_test = np.array([X_test[i][1:] for i in range(1000)])\n",
    "\n",
    "# X\n",
    "images_array = [data.loc[i].to_numpy() for i in range(data.shape[0])]\n",
    "# images_array = np.array([images_array[i][1:] for i in range(data.shape[0])])\n",
    "images_array = np.array([images_array[i][1:] for i in range(1000)])\n",
    "\n",
    "# Y\n",
    "images_label  = np.array([data.loc[i][0] for i in range(1000)])\n",
    "# images_label  = np.array([data.loc[i][0] for i in range(data.shape[0])])\n",
    "images_label = images_label.reshape(len(images_array), 1)"
   ]
  },
  {
   "cell_type": "code",
   "execution_count": 7,
   "metadata": {},
   "outputs": [],
   "source": [
    "# plt.imshow(images_array[19], cmap=\"gray\")\n",
    "# plt.axis(\"off\")\n",
    "# print(images_label[19])"
   ]
  },
  {
   "cell_type": "code",
   "execution_count": 8,
   "metadata": {},
   "outputs": [],
   "source": [
    "fixed_data = np.array([data.to_numpy()[i][1:] for i in range(data.shape[0])])\n",
    "fixed_test_data = np.array([test_data.to_numpy()[i][1:] for i in range(test_data.shape[0])])"
   ]
  },
  {
   "cell_type": "code",
   "execution_count": 9,
   "metadata": {},
   "outputs": [],
   "source": [
    "red_neuronal_imagenes = NeuralNetwork.crear_modelo_de_red([data.shape[1]-1, 100, 100, 3])"
   ]
  },
  {
   "cell_type": "code",
   "execution_count": 10,
   "metadata": {},
   "outputs": [
    {
     "data": {
      "text/plain": [
       "(784, 100)"
      ]
     },
     "execution_count": 10,
     "metadata": {},
     "output_type": "execute_result"
    }
   ],
   "source": [
    "red_neuronal_imagenes[0][0].shape"
   ]
  },
  {
   "cell_type": "code",
   "execution_count": 13,
   "metadata": {},
   "outputs": [
    {
     "name": "stderr",
     "output_type": "stream",
     "text": [
      "  1%|          | 7/1000 [00:00<00:33, 29.89it/s]"
     ]
    },
    {
     "name": "stdout",
     "output_type": "stream",
     "text": [
      "Epoch: 0      |       Error: 27.510430398750202\n",
      "Epoch: 1      |       Error: 27.87324\n",
      "Epoch: 2      |       Error: 26.97704\n",
      "Epoch: 3      |       Error: 27.86744\n",
      "Epoch: 4      |       Error: 27.51128\n",
      "Epoch: 5      |       Error: 27.86744\n",
      "Epoch: 6      |       Error: 27.51128\n"
     ]
    },
    {
     "name": "stderr",
     "output_type": "stream",
     "text": [
      "  2%|▏         | 16/1000 [00:00<00:26, 37.55it/s]"
     ]
    },
    {
     "name": "stdout",
     "output_type": "stream",
     "text": [
      "Epoch: 7      |       Error: 27.86744\n",
      "Epoch: 8      |       Error: 27.86744\n",
      "Epoch: 9      |       Error: 27.86744\n",
      "Epoch: 10      |       Error: 27.86744\n",
      "Epoch: 11      |       Error: 27.86744\n",
      "Epoch: 12      |       Error: 27.86744\n",
      "Epoch: 13      |       Error: 27.86744\n",
      "Epoch: 14      |       Error: 27.86744\n",
      "Epoch: 15      |       Error: 27.86744\n"
     ]
    },
    {
     "name": "stderr",
     "output_type": "stream",
     "text": [
      "  2%|▏         | 24/1000 [00:00<00:26, 36.83it/s]"
     ]
    },
    {
     "name": "stdout",
     "output_type": "stream",
     "text": [
      "Epoch: 16      |       Error: 27.86744\n",
      "Epoch: 17      |       Error: 27.86744\n",
      "Epoch: 18      |       Error: 27.86744\n",
      "Epoch: 19      |       Error: 27.86744\n",
      "Epoch: 20      |       Error: 27.86744\n",
      "Epoch: 21      |       Error: 27.86744\n",
      "Epoch: 22      |       Error: 27.86744\n",
      "Epoch: 23      |       Error: 27.86744\n"
     ]
    },
    {
     "name": "stderr",
     "output_type": "stream",
     "text": [
      "  3%|▎         | 32/1000 [00:00<00:27, 35.06it/s]"
     ]
    },
    {
     "name": "stdout",
     "output_type": "stream",
     "text": [
      "Epoch: 24      |       Error: 27.86744\n",
      "Epoch: 25      |       Error: 27.86744\n",
      "Epoch: 26      |       Error: 27.86744\n",
      "Epoch: 27      |       Error: 27.86744\n",
      "Epoch: 28      |       Error: 27.86744\n",
      "Epoch: 29      |       Error: 27.86744\n",
      "Epoch: 30      |       Error: 27.86744\n",
      "Epoch: 31      |       Error: 27.86744\n"
     ]
    },
    {
     "name": "stderr",
     "output_type": "stream",
     "text": [
      "  4%|▎         | 36/1000 [00:01<00:28, 33.49it/s]"
     ]
    },
    {
     "name": "stdout",
     "output_type": "stream",
     "text": [
      "Epoch: 32      |       Error: 27.86744\n",
      "Epoch: 33      |       Error: 27.86744\n",
      "Epoch: 34      |       Error: 27.86744\n",
      "Epoch: 35      |       Error: 27.86744\n",
      "Epoch: 36      |       Error: 27.86744\n",
      "Epoch: 37      |       Error: 27.86744\n",
      "Epoch: 38      |       Error: 27.86744\n"
     ]
    },
    {
     "name": "stderr",
     "output_type": "stream",
     "text": [
      "  4%|▍         | 44/1000 [00:01<00:29, 31.99it/s]"
     ]
    },
    {
     "name": "stdout",
     "output_type": "stream",
     "text": [
      "Epoch: 39      |       Error: 27.86744\n",
      "Epoch: 40      |       Error: 27.86744\n",
      "Epoch: 41      |       Error: 27.86744\n",
      "Epoch: 42      |       Error: 27.86744\n",
      "Epoch: 43      |       Error: 27.86744\n",
      "Epoch: 44      |       Error: 27.86744\n",
      "Epoch: 45      |       Error: 27.86744\n"
     ]
    },
    {
     "name": "stderr",
     "output_type": "stream",
     "text": [
      "  5%|▌         | 52/1000 [00:01<00:28, 33.07it/s]"
     ]
    },
    {
     "name": "stdout",
     "output_type": "stream",
     "text": [
      "Epoch: 46      |       Error: 27.86744\n",
      "Epoch: 47      |       Error: 27.86744\n",
      "Epoch: 48      |       Error: 27.86744\n",
      "Epoch: 49      |       Error: 27.86744\n",
      "Epoch: 50      |       Error: 27.86744\n",
      "Epoch: 51      |       Error: 27.86744\n",
      "Epoch: 52      |       Error: 27.86744\n"
     ]
    },
    {
     "name": "stderr",
     "output_type": "stream",
     "text": [
      "  6%|▌         | 56/1000 [00:01<00:29, 32.10it/s]"
     ]
    },
    {
     "name": "stdout",
     "output_type": "stream",
     "text": [
      "Epoch: 53      |       Error: 27.86744\n",
      "Epoch: 54      |       Error: 27.86744\n",
      "Epoch: 55      |       Error: 27.86744\n",
      "Epoch: 56      |       Error: 27.86744\n",
      "Epoch: 57      |       Error: 27.86744\n",
      "Epoch: 58      |       Error: 27.86744\n"
     ]
    },
    {
     "name": "stderr",
     "output_type": "stream",
     "text": [
      "  6%|▋         | 64/1000 [00:01<00:29, 31.51it/s]"
     ]
    },
    {
     "name": "stdout",
     "output_type": "stream",
     "text": [
      "Epoch: 59      |       Error: 27.86744\n",
      "Epoch: 60      |       Error: 27.86744\n",
      "Epoch: 61      |       Error: 27.86744\n",
      "Epoch: 62      |       Error: 27.86744\n",
      "Epoch: 63      |       Error: 27.86744\n",
      "Epoch: 64      |       Error: 27.86744\n",
      "Epoch: 65      |       Error: 27.86744\n",
      "Epoch: 66      |       Error: 27.86744\n"
     ]
    },
    {
     "name": "stderr",
     "output_type": "stream",
     "text": [
      "  7%|▋         | 72/1000 [00:02<00:30, 30.53it/s]"
     ]
    },
    {
     "name": "stdout",
     "output_type": "stream",
     "text": [
      "Epoch: 67      |       Error: 27.86744\n",
      "Epoch: 68      |       Error: 27.86744\n",
      "Epoch: 69      |       Error: 27.86744\n",
      "Epoch: 70      |       Error: 27.86744\n",
      "Epoch: 71      |       Error: 27.86744\n",
      "Epoch: 72      |       Error: 27.86744\n"
     ]
    },
    {
     "name": "stderr",
     "output_type": "stream",
     "text": [
      "  8%|▊         | 80/1000 [00:02<00:29, 31.57it/s]"
     ]
    },
    {
     "name": "stdout",
     "output_type": "stream",
     "text": [
      "Epoch: 73      |       Error: 27.86744\n",
      "Epoch: 74      |       Error: 27.86744\n",
      "Epoch: 75      |       Error: 27.86744\n",
      "Epoch: 76      |       Error: 27.86744\n",
      "Epoch: 77      |       Error: 27.86744\n",
      "Epoch: 78      |       Error: 27.86744\n",
      "Epoch: 79      |       Error: 27.86744\n"
     ]
    },
    {
     "name": "stderr",
     "output_type": "stream",
     "text": [
      "  8%|▊         | 84/1000 [00:02<00:29, 30.63it/s]"
     ]
    },
    {
     "name": "stdout",
     "output_type": "stream",
     "text": [
      "Epoch: 80      |       Error: 27.86744\n",
      "Epoch: 81      |       Error: 27.86744\n",
      "Epoch: 82      |       Error: 27.86744\n",
      "Epoch: 83      |       Error: 27.86744\n",
      "Epoch: 84      |       Error: 27.86744\n",
      "Epoch: 85      |       Error: 27.86744\n"
     ]
    },
    {
     "name": "stderr",
     "output_type": "stream",
     "text": [
      "  9%|▉         | 91/1000 [00:02<00:31, 28.77it/s]"
     ]
    },
    {
     "name": "stdout",
     "output_type": "stream",
     "text": [
      "Epoch: 86      |       Error: 27.86744\n",
      "Epoch: 87      |       Error: 27.86744\n",
      "Epoch: 88      |       Error: 27.86744\n",
      "Epoch: 89      |       Error: 27.86744\n",
      "Epoch: 90      |       Error: 27.86744\n",
      "Epoch: 91      |       Error: 27.86744\n"
     ]
    },
    {
     "name": "stderr",
     "output_type": "stream",
     "text": [
      " 10%|▉         | 98/1000 [00:03<00:29, 30.26it/s]"
     ]
    },
    {
     "name": "stdout",
     "output_type": "stream",
     "text": [
      "Epoch: 92      |       Error: 27.86744\n",
      "Epoch: 93      |       Error: 27.86744\n",
      "Epoch: 94      |       Error: 27.86744\n",
      "Epoch: 95      |       Error: 27.86744\n",
      "Epoch: 96      |       Error: 27.86744\n",
      "Epoch: 97      |       Error: 27.86744\n"
     ]
    },
    {
     "name": "stderr",
     "output_type": "stream",
     "text": [
      " 10%|█         | 102/1000 [00:03<00:32, 27.64it/s]"
     ]
    },
    {
     "name": "stdout",
     "output_type": "stream",
     "text": [
      "Epoch: 98      |       Error: 27.86744\n",
      "Epoch: 99      |       Error: 27.86744\n",
      "Epoch: 100      |       Error: 27.86744\n",
      "Epoch: 101      |       Error: 27.86744\n",
      "Epoch: 102      |       Error: 27.86744\n",
      "Epoch: 103      |       Error: 27.86744\n"
     ]
    },
    {
     "name": "stderr",
     "output_type": "stream",
     "text": [
      " 11%|█         | 109/1000 [00:03<00:30, 28.98it/s]"
     ]
    },
    {
     "name": "stdout",
     "output_type": "stream",
     "text": [
      "Epoch: 104      |       Error: 27.86744\n",
      "Epoch: 105      |       Error: 27.86744\n",
      "Epoch: 106      |       Error: 27.86744\n",
      "Epoch: 107      |       Error: 27.86744\n",
      "Epoch: 108      |       Error: 27.86744\n",
      "Epoch: 109      |       Error: 27.86744\n",
      "Epoch: 110      |       Error: 27.86744\n",
      "Epoch: 111      |       Error: 27.86744\n"
     ]
    },
    {
     "name": "stderr",
     "output_type": "stream",
     "text": [
      " 12%|█▏        | 117/1000 [00:03<00:27, 31.69it/s]"
     ]
    },
    {
     "name": "stdout",
     "output_type": "stream",
     "text": [
      "Epoch: 112      |       Error: 27.86744\n",
      "Epoch: 113      |       Error: 27.86744\n",
      "Epoch: 114      |       Error: 27.86744\n",
      "Epoch: 115      |       Error: 27.86744\n",
      "Epoch: 116      |       Error: 27.86744\n",
      "Epoch: 117      |       Error: 27.86744\n",
      "Epoch: 118      |       Error: 27.86744\n",
      "Epoch: 119      |       Error: 27.86744\n"
     ]
    },
    {
     "name": "stderr",
     "output_type": "stream",
     "text": [
      " 12%|█▎        | 125/1000 [00:03<00:27, 31.69it/s]"
     ]
    },
    {
     "name": "stdout",
     "output_type": "stream",
     "text": [
      "Epoch: 120      |       Error: 27.86744\n",
      "Epoch: 121      |       Error: 27.86744\n",
      "Epoch: 122      |       Error: 27.86744\n",
      "Epoch: 123      |       Error: 27.86744\n",
      "Epoch: 124      |       Error: 27.86744\n",
      "Epoch: 125      |       Error: 27.86744\n"
     ]
    },
    {
     "name": "stderr",
     "output_type": "stream",
     "text": [
      " 13%|█▎        | 132/1000 [00:04<00:29, 29.04it/s]"
     ]
    },
    {
     "name": "stdout",
     "output_type": "stream",
     "text": [
      "Epoch: 126      |       Error: 27.86744\n",
      "Epoch: 127      |       Error: 27.86744\n",
      "Epoch: 128      |       Error: 27.86744\n",
      "Epoch: 129      |       Error: 27.86744\n",
      "Epoch: 130      |       Error: 27.86744\n",
      "Epoch: 131      |       Error: 27.86744\n"
     ]
    },
    {
     "name": "stderr",
     "output_type": "stream",
     "text": [
      " 14%|█▍        | 139/1000 [00:04<00:28, 30.14it/s]"
     ]
    },
    {
     "name": "stdout",
     "output_type": "stream",
     "text": [
      "Epoch: 132      |       Error: 27.86744\n",
      "Epoch: 133      |       Error: 27.86744\n",
      "Epoch: 134      |       Error: 27.86744\n",
      "Epoch: 135      |       Error: 27.86744\n",
      "Epoch: 136      |       Error: 27.86744\n",
      "Epoch: 137      |       Error: 27.86744\n",
      "Epoch: 138      |       Error: 27.86744\n"
     ]
    },
    {
     "name": "stderr",
     "output_type": "stream",
     "text": [
      " 14%|█▍        | 143/1000 [00:04<00:30, 27.78it/s]"
     ]
    },
    {
     "name": "stdout",
     "output_type": "stream",
     "text": [
      "Epoch: 139      |       Error: 27.86744\n",
      "Epoch: 140      |       Error: 27.86744\n",
      "Epoch: 141      |       Error: 27.86744\n",
      "Epoch: 142      |       Error: 27.86744\n",
      "Epoch: 143      |       Error: 27.86744\n"
     ]
    },
    {
     "name": "stderr",
     "output_type": "stream",
     "text": [
      " 15%|█▍        | 149/1000 [00:04<00:32, 25.86it/s]"
     ]
    },
    {
     "name": "stdout",
     "output_type": "stream",
     "text": [
      "Epoch: 144      |       Error: 27.86744\n",
      "Epoch: 145      |       Error: 27.86744\n",
      "Epoch: 146      |       Error: 27.86744\n",
      "Epoch: 147      |       Error: 27.86744\n",
      "Epoch: 148      |       Error: 27.86744\n"
     ]
    },
    {
     "name": "stderr",
     "output_type": "stream",
     "text": [
      " 15%|█▌        | 152/1000 [00:05<00:38, 22.07it/s]"
     ]
    },
    {
     "name": "stdout",
     "output_type": "stream",
     "text": [
      "Epoch: 149      |       Error: 27.86744\n",
      "Epoch: 150      |       Error: 27.86744\n",
      "Epoch: 151      |       Error: 27.86744\n",
      "Epoch: 152      |       Error: 27.86744\n"
     ]
    },
    {
     "name": "stderr",
     "output_type": "stream",
     "text": [
      " 16%|█▌        | 155/1000 [00:05<00:38, 21.96it/s]"
     ]
    },
    {
     "name": "stdout",
     "output_type": "stream",
     "text": [
      "Epoch: 153      |       Error: 27.86744\n",
      "Epoch: 154      |       Error: 27.86744\n",
      "Epoch: 155      |       Error: 27.86744\n",
      "Epoch: 156      |       Error: 27.86744\n"
     ]
    },
    {
     "name": "stderr",
     "output_type": "stream",
     "text": [
      " 16%|█▌        | 161/1000 [00:05<00:38, 21.87it/s]"
     ]
    },
    {
     "name": "stdout",
     "output_type": "stream",
     "text": [
      "Epoch: 157      |       Error: 27.86744\n",
      "Epoch: 158      |       Error: 27.86744\n",
      "Epoch: 159      |       Error: 27.86744\n",
      "Epoch: 160      |       Error: 27.86744\n"
     ]
    },
    {
     "name": "stderr",
     "output_type": "stream",
     "text": [
      " 16%|█▋        | 164/1000 [00:05<00:46, 18.08it/s]"
     ]
    },
    {
     "name": "stdout",
     "output_type": "stream",
     "text": [
      "Epoch: 161      |       Error: 27.86744\n",
      "Epoch: 162      |       Error: 27.86744\n",
      "Epoch: 163      |       Error: 27.86744\n",
      "Epoch: 164      |       Error: 27.86744\n",
      "Epoch: 165      |       Error: 27.86744\n"
     ]
    },
    {
     "name": "stderr",
     "output_type": "stream",
     "text": [
      " 17%|█▋        | 170/1000 [00:05<00:39, 21.26it/s]"
     ]
    },
    {
     "name": "stdout",
     "output_type": "stream",
     "text": [
      "Epoch: 166      |       Error: 27.86744\n",
      "Epoch: 167      |       Error: 27.86744\n",
      "Epoch: 168      |       Error: 27.86744\n",
      "Epoch: 169      |       Error: 27.86744\n",
      "Epoch: 170      |       Error: 27.86744\n"
     ]
    },
    {
     "name": "stderr",
     "output_type": "stream",
     "text": [
      " 18%|█▊        | 176/1000 [00:06<00:36, 22.31it/s]"
     ]
    },
    {
     "name": "stdout",
     "output_type": "stream",
     "text": [
      "Epoch: 171      |       Error: 27.86744\n",
      "Epoch: 172      |       Error: 27.86744\n",
      "Epoch: 173      |       Error: 27.86744\n",
      "Epoch: 174      |       Error: 27.86744\n",
      "Epoch: 175      |       Error: 27.86744\n",
      "Epoch: 176      |       Error: 27.86744\n"
     ]
    },
    {
     "name": "stderr",
     "output_type": "stream",
     "text": [
      " 18%|█▊        | 180/1000 [00:06<00:32, 24.86it/s]"
     ]
    },
    {
     "name": "stdout",
     "output_type": "stream",
     "text": [
      "Epoch: 177      |       Error: 27.86744\n",
      "Epoch: 178      |       Error: 27.86744\n",
      "Epoch: 179      |       Error: 27.86744\n",
      "Epoch: 180      |       Error: 27.86744\n",
      "Epoch: 181      |       Error: 27.86744\n"
     ]
    },
    {
     "name": "stderr",
     "output_type": "stream",
     "text": [
      " 19%|█▊        | 186/1000 [00:06<00:43, 18.55it/s]"
     ]
    },
    {
     "name": "stdout",
     "output_type": "stream",
     "text": [
      "Epoch: 182      |       Error: 27.86744\n",
      "Epoch: 183      |       Error: 27.86744\n",
      "Epoch: 184      |       Error: 27.86744\n",
      "Epoch: 185      |       Error: 27.86744\n",
      "Epoch: 186      |       Error: 27.86744\n"
     ]
    },
    {
     "name": "stderr",
     "output_type": "stream",
     "text": [
      " 19%|█▉        | 192/1000 [00:06<00:37, 21.78it/s]"
     ]
    },
    {
     "name": "stdout",
     "output_type": "stream",
     "text": [
      "Epoch: 187      |       Error: 27.86744\n",
      "Epoch: 188      |       Error: 27.86744\n",
      "Epoch: 189      |       Error: 27.86744\n",
      "Epoch: 190      |       Error: 27.86744\n",
      "Epoch: 191      |       Error: 27.86744\n",
      "Epoch: 192      |       Error: 27.86744\n"
     ]
    },
    {
     "name": "stderr",
     "output_type": "stream",
     "text": [
      " 20%|█▉        | 198/1000 [00:07<00:33, 23.69it/s]"
     ]
    },
    {
     "name": "stdout",
     "output_type": "stream",
     "text": [
      "Epoch: 193      |       Error: 27.86744\n",
      "Epoch: 194      |       Error: 27.86744\n",
      "Epoch: 195      |       Error: 27.86744\n",
      "Epoch: 196      |       Error: 27.86744\n",
      "Epoch: 197      |       Error: 27.86744\n",
      "Epoch: 198      |       Error: 27.86744\n"
     ]
    },
    {
     "name": "stderr",
     "output_type": "stream",
     "text": [
      " 20%|██        | 204/1000 [00:07<00:34, 23.07it/s]"
     ]
    },
    {
     "name": "stdout",
     "output_type": "stream",
     "text": [
      "Epoch: 199      |       Error: 27.86744\n",
      "Epoch: 200      |       Error: 27.86744\n",
      "Epoch: 201      |       Error: 27.86744\n",
      "Epoch: 202      |       Error: 27.86744\n",
      "Epoch: 203      |       Error: 27.86744\n"
     ]
    },
    {
     "name": "stderr",
     "output_type": "stream",
     "text": [
      " 21%|██        | 208/1000 [00:07<00:31, 25.07it/s]"
     ]
    },
    {
     "name": "stdout",
     "output_type": "stream",
     "text": [
      "Epoch: 204      |       Error: 27.86744\n",
      "Epoch: 205      |       Error: 27.86744\n",
      "Epoch: 206      |       Error: 27.86744\n",
      "Epoch: 207      |       Error: 27.86744\n",
      "Epoch: 208      |       Error: 27.86744\n",
      "Epoch: 209      |       Error: 27.86744\n"
     ]
    },
    {
     "name": "stderr",
     "output_type": "stream",
     "text": [
      " 21%|██▏       | 214/1000 [00:07<00:32, 24.04it/s]"
     ]
    },
    {
     "name": "stdout",
     "output_type": "stream",
     "text": [
      "Epoch: 210      |       Error: 27.86744\n",
      "Epoch: 211      |       Error: 27.86744\n",
      "Epoch: 212      |       Error: 27.86744\n",
      "Epoch: 213      |       Error: 27.86744\n",
      "Epoch: 214      |       Error: 27.86744\n",
      "Epoch: 215      |       Error: 27.86744\n"
     ]
    },
    {
     "name": "stderr",
     "output_type": "stream",
     "text": [
      " 22%|██▏       | 221/1000 [00:08<00:30, 25.72it/s]"
     ]
    },
    {
     "name": "stdout",
     "output_type": "stream",
     "text": [
      "Epoch: 216      |       Error: 27.86744\n",
      "Epoch: 217      |       Error: 27.86744\n",
      "Epoch: 218      |       Error: 27.86744\n",
      "Epoch: 219      |       Error: 27.86744\n",
      "Epoch: 220      |       Error: 27.86744\n",
      "Epoch: 221      |       Error: 27.86744\n"
     ]
    },
    {
     "name": "stderr",
     "output_type": "stream",
     "text": [
      " 23%|██▎       | 227/1000 [00:08<00:29, 26.09it/s]"
     ]
    },
    {
     "name": "stdout",
     "output_type": "stream",
     "text": [
      "Epoch: 222      |       Error: 27.86744\n",
      "Epoch: 223      |       Error: 27.86744\n",
      "Epoch: 224      |       Error: 27.86744\n",
      "Epoch: 225      |       Error: 27.86744\n",
      "Epoch: 226      |       Error: 27.86744\n",
      "Epoch: 227      |       Error: 27.86744\n"
     ]
    },
    {
     "name": "stderr",
     "output_type": "stream",
     "text": [
      " 23%|██▎       | 233/1000 [00:08<00:28, 26.86it/s]"
     ]
    },
    {
     "name": "stdout",
     "output_type": "stream",
     "text": [
      "Epoch: 228      |       Error: 27.86744\n",
      "Epoch: 229      |       Error: 27.86744\n",
      "Epoch: 230      |       Error: 27.86744\n",
      "Epoch: 231      |       Error: 27.86744\n",
      "Epoch: 232      |       Error: 27.86744\n",
      "Epoch: 233      |       Error: 27.86744\n"
     ]
    },
    {
     "name": "stderr",
     "output_type": "stream",
     "text": [
      " 24%|██▍       | 239/1000 [00:08<00:30, 25.26it/s]"
     ]
    },
    {
     "name": "stdout",
     "output_type": "stream",
     "text": [
      "Epoch: 234      |       Error: 27.86744\n",
      "Epoch: 235      |       Error: 27.86744\n",
      "Epoch: 236      |       Error: 27.86744\n",
      "Epoch: 237      |       Error: 27.86744\n",
      "Epoch: 238      |       Error: 27.86744\n"
     ]
    },
    {
     "name": "stderr",
     "output_type": "stream",
     "text": [
      " 24%|██▍       | 245/1000 [00:09<00:27, 27.30it/s]"
     ]
    },
    {
     "name": "stdout",
     "output_type": "stream",
     "text": [
      "Epoch: 239      |       Error: 27.86744\n",
      "Epoch: 240      |       Error: 27.86744\n",
      "Epoch: 241      |       Error: 27.86744\n",
      "Epoch: 242      |       Error: 27.86744\n",
      "Epoch: 243      |       Error: 27.86744\n",
      "Epoch: 244      |       Error: 27.86744\n",
      "Epoch: 245      |       Error: 27.86744\n"
     ]
    },
    {
     "name": "stderr",
     "output_type": "stream",
     "text": [
      " 25%|██▌       | 251/1000 [00:09<00:27, 26.77it/s]"
     ]
    },
    {
     "name": "stdout",
     "output_type": "stream",
     "text": [
      "Epoch: 246      |       Error: 27.86744\n",
      "Epoch: 247      |       Error: 27.86744\n",
      "Epoch: 248      |       Error: 27.86744\n",
      "Epoch: 249      |       Error: 27.86744\n",
      "Epoch: 250      |       Error: 27.86744\n",
      "Epoch: 251      |       Error: 27.86744\n"
     ]
    },
    {
     "name": "stderr",
     "output_type": "stream",
     "text": [
      " 26%|██▌       | 257/1000 [00:09<00:28, 26.41it/s]"
     ]
    },
    {
     "name": "stdout",
     "output_type": "stream",
     "text": [
      "Epoch: 252      |       Error: 27.86744\n",
      "Epoch: 253      |       Error: 27.86744\n",
      "Epoch: 254      |       Error: 27.86744\n",
      "Epoch: 255      |       Error: 27.86744\n",
      "Epoch: 256      |       Error: 27.86744\n",
      "Epoch: 257      |       Error: 27.86744\n"
     ]
    },
    {
     "name": "stderr",
     "output_type": "stream",
     "text": [
      " 26%|██▋       | 264/1000 [00:09<00:25, 29.08it/s]"
     ]
    },
    {
     "name": "stdout",
     "output_type": "stream",
     "text": [
      "Epoch: 258      |       Error: 27.86744\n",
      "Epoch: 259      |       Error: 27.86744\n",
      "Epoch: 260      |       Error: 27.86744\n",
      "Epoch: 261      |       Error: 27.86744\n",
      "Epoch: 262      |       Error: 27.86744\n",
      "Epoch: 263      |       Error: 27.86744\n",
      "Epoch: 264      |       Error: 27.86744\n"
     ]
    },
    {
     "name": "stderr",
     "output_type": "stream",
     "text": [
      " 27%|██▋       | 272/1000 [00:09<00:22, 31.75it/s]"
     ]
    },
    {
     "name": "stdout",
     "output_type": "stream",
     "text": [
      "Epoch: 265      |       Error: 27.86744\n",
      "Epoch: 266      |       Error: 27.86744\n",
      "Epoch: 267      |       Error: 27.86744\n",
      "Epoch: 268      |       Error: 27.86744\n",
      "Epoch: 269      |       Error: 27.86744\n",
      "Epoch: 270      |       Error: 27.86744\n",
      "Epoch: 271      |       Error: 27.86744\n"
     ]
    },
    {
     "name": "stderr",
     "output_type": "stream",
     "text": [
      " 28%|██▊       | 276/1000 [00:10<00:23, 31.08it/s]"
     ]
    },
    {
     "name": "stdout",
     "output_type": "stream",
     "text": [
      "Epoch: 272      |       Error: 27.86744\n",
      "Epoch: 273      |       Error: 27.86744\n",
      "Epoch: 274      |       Error: 27.86744\n",
      "Epoch: 275      |       Error: 27.86744\n",
      "Epoch: 276      |       Error: 27.86744\n",
      "Epoch: 277      |       Error: 27.86744\n"
     ]
    },
    {
     "name": "stderr",
     "output_type": "stream",
     "text": [
      " 28%|██▊       | 284/1000 [00:10<00:23, 30.41it/s]"
     ]
    },
    {
     "name": "stdout",
     "output_type": "stream",
     "text": [
      "Epoch: 278      |       Error: 27.86744\n",
      "Epoch: 279      |       Error: 27.86744\n",
      "Epoch: 280      |       Error: 27.86744\n",
      "Epoch: 281      |       Error: 27.86744\n",
      "Epoch: 282      |       Error: 27.86744\n",
      "Epoch: 283      |       Error: 27.86744\n",
      "Epoch: 284      |       Error: 27.86744\n"
     ]
    },
    {
     "name": "stderr",
     "output_type": "stream",
     "text": [
      " 29%|██▉       | 291/1000 [00:10<00:24, 29.08it/s]"
     ]
    },
    {
     "name": "stdout",
     "output_type": "stream",
     "text": [
      "Epoch: 285      |       Error: 27.86744\n",
      "Epoch: 286      |       Error: 27.86744\n",
      "Epoch: 287      |       Error: 27.86744\n",
      "Epoch: 288      |       Error: 27.86744\n",
      "Epoch: 289      |       Error: 27.86744\n",
      "Epoch: 290      |       Error: 27.86744\n"
     ]
    },
    {
     "name": "stderr",
     "output_type": "stream",
     "text": [
      " 29%|██▉       | 294/1000 [00:10<00:24, 28.69it/s]"
     ]
    },
    {
     "name": "stdout",
     "output_type": "stream",
     "text": [
      "Epoch: 291      |       Error: 27.86744\n",
      "Epoch: 292      |       Error: 27.86744\n",
      "Epoch: 293      |       Error: 27.86744\n",
      "Epoch: 294      |       Error: 27.86744\n",
      "Epoch: 295      |       Error: 27.86744\n"
     ]
    },
    {
     "name": "stderr",
     "output_type": "stream",
     "text": [
      " 30%|███       | 300/1000 [00:10<00:27, 25.73it/s]"
     ]
    },
    {
     "name": "stdout",
     "output_type": "stream",
     "text": [
      "Epoch: 296      |       Error: 27.86744\n",
      "Epoch: 297      |       Error: 27.86744\n",
      "Epoch: 298      |       Error: 27.86744\n",
      "Epoch: 299      |       Error: 27.86744\n",
      "Epoch: 300      |       Error: 27.86744\n"
     ]
    },
    {
     "name": "stderr",
     "output_type": "stream",
     "text": [
      " 30%|███       | 303/1000 [00:11<00:35, 19.68it/s]"
     ]
    },
    {
     "name": "stdout",
     "output_type": "stream",
     "text": [
      "Epoch: 301      |       Error: 27.86744\n",
      "Epoch: 302      |       Error: 27.86744\n",
      "Epoch: 303      |       Error: 27.86744\n"
     ]
    },
    {
     "name": "stderr",
     "output_type": "stream",
     "text": [
      " 31%|███       | 309/1000 [00:11<00:31, 21.99it/s]"
     ]
    },
    {
     "name": "stdout",
     "output_type": "stream",
     "text": [
      "Epoch: 304      |       Error: 27.86744\n",
      "Epoch: 305      |       Error: 27.86744\n",
      "Epoch: 306      |       Error: 27.86744\n",
      "Epoch: 307      |       Error: 27.86744\n",
      "Epoch: 308      |       Error: 27.86744\n",
      "Epoch: 309      |       Error: 27.86744\n"
     ]
    },
    {
     "name": "stderr",
     "output_type": "stream",
     "text": [
      " 32%|███▏      | 316/1000 [00:11<00:27, 24.79it/s]"
     ]
    },
    {
     "name": "stdout",
     "output_type": "stream",
     "text": [
      "Epoch: 310      |       Error: 27.86744\n",
      "Epoch: 311      |       Error: 27.86744\n",
      "Epoch: 312      |       Error: 27.86744\n",
      "Epoch: 313      |       Error: 27.86744\n",
      "Epoch: 314      |       Error: 27.86744\n",
      "Epoch: 315      |       Error: 27.86744\n"
     ]
    },
    {
     "name": "stderr",
     "output_type": "stream",
     "text": [
      " 32%|███▏      | 322/1000 [00:11<00:25, 26.53it/s]"
     ]
    },
    {
     "name": "stdout",
     "output_type": "stream",
     "text": [
      "Epoch: 316      |       Error: 27.86744\n",
      "Epoch: 317      |       Error: 27.86744\n",
      "Epoch: 318      |       Error: 27.86744\n",
      "Epoch: 319      |       Error: 27.86744\n",
      "Epoch: 320      |       Error: 27.86744\n",
      "Epoch: 321      |       Error: 27.86744\n"
     ]
    },
    {
     "name": "stderr",
     "output_type": "stream",
     "text": [
      " 33%|███▎      | 329/1000 [00:12<00:22, 30.32it/s]"
     ]
    },
    {
     "name": "stdout",
     "output_type": "stream",
     "text": [
      "Epoch: 322      |       Error: 27.86744\n",
      "Epoch: 323      |       Error: 27.86744\n",
      "Epoch: 324      |       Error: 27.86744\n",
      "Epoch: 325      |       Error: 27.86744\n",
      "Epoch: 326      |       Error: 27.86744\n",
      "Epoch: 327      |       Error: 27.86744\n",
      "Epoch: 328      |       Error: 27.86744\n"
     ]
    },
    {
     "name": "stderr",
     "output_type": "stream",
     "text": [
      " 33%|███▎      | 333/1000 [00:12<00:22, 29.70it/s]"
     ]
    },
    {
     "name": "stdout",
     "output_type": "stream",
     "text": [
      "Epoch: 329      |       Error: 27.86744\n",
      "Epoch: 330      |       Error: 27.86744\n",
      "Epoch: 331      |       Error: 27.86744\n",
      "Epoch: 332      |       Error: 27.86744\n",
      "Epoch: 333      |       Error: 27.86744\n",
      "Epoch: 334      |       Error: 27.86744\n",
      "Epoch: 335      |       Error: 27.86744\n"
     ]
    },
    {
     "name": "stderr",
     "output_type": "stream",
     "text": [
      " 34%|███▍      | 340/1000 [00:12<00:40, 16.19it/s]"
     ]
    },
    {
     "name": "stdout",
     "output_type": "stream",
     "text": [
      "Epoch: 336      |       Error: 27.86744\n",
      "Epoch: 337      |       Error: 27.86744\n",
      "Epoch: 338      |       Error: 27.86744\n",
      "Epoch: 339      |       Error: 27.86744\n"
     ]
    },
    {
     "name": "stderr",
     "output_type": "stream",
     "text": [
      " 35%|███▍      | 347/1000 [00:13<00:30, 21.44it/s]"
     ]
    },
    {
     "name": "stdout",
     "output_type": "stream",
     "text": [
      "Epoch: 340      |       Error: 27.86744\n",
      "Epoch: 341      |       Error: 27.86744\n",
      "Epoch: 342      |       Error: 27.86744\n",
      "Epoch: 343      |       Error: 27.86744\n",
      "Epoch: 344      |       Error: 27.86744\n",
      "Epoch: 345      |       Error: 27.86744\n",
      "Epoch: 346      |       Error: 27.86744\n"
     ]
    },
    {
     "name": "stderr",
     "output_type": "stream",
     "text": [
      " 36%|███▌      | 355/1000 [00:13<00:23, 27.21it/s]"
     ]
    },
    {
     "name": "stdout",
     "output_type": "stream",
     "text": [
      "Epoch: 347      |       Error: 27.86744\n",
      "Epoch: 348      |       Error: 27.86744\n",
      "Epoch: 349      |       Error: 27.86744\n",
      "Epoch: 350      |       Error: 27.86744\n",
      "Epoch: 351      |       Error: 27.86744\n",
      "Epoch: 352      |       Error: 27.86744\n",
      "Epoch: 353      |       Error: 27.86744\n",
      "Epoch: 354      |       Error: 27.86744\n",
      "Epoch: 355      |       Error: 27.86744\n",
      "Epoch: 356      |       Error: 27.86744\n",
      "Epoch: 357      |       Error: 27.86744\n"
     ]
    },
    {
     "name": "stderr",
     "output_type": "stream",
     "text": [
      " 36%|███▌      | 362/1000 [00:13<00:37, 16.90it/s]"
     ]
    },
    {
     "name": "stdout",
     "output_type": "stream",
     "text": [
      "Epoch: 358      |       Error: 27.86744\n",
      "Epoch: 359      |       Error: 27.86744\n",
      "Epoch: 360      |       Error: 27.86744\n",
      "Epoch: 361      |       Error: 27.86744\n"
     ]
    },
    {
     "name": "stderr",
     "output_type": "stream",
     "text": [
      " 36%|███▋      | 365/1000 [00:14<00:34, 18.14it/s]"
     ]
    },
    {
     "name": "stdout",
     "output_type": "stream",
     "text": [
      "Epoch: 362      |       Error: 27.86744\n",
      "Epoch: 363      |       Error: 27.86744\n",
      "Epoch: 364      |       Error: 27.86744\n",
      "Epoch: 365      |       Error: 27.86744\n",
      "Epoch: 366      |       Error: 27.86744\n",
      "Epoch: 367      |       Error: 27.86744\n"
     ]
    },
    {
     "name": "stderr",
     "output_type": "stream",
     "text": [
      " 37%|███▋      | 372/1000 [00:14<00:27, 22.49it/s]"
     ]
    },
    {
     "name": "stdout",
     "output_type": "stream",
     "text": [
      "Epoch: 368      |       Error: 27.86744\n",
      "Epoch: 369      |       Error: 27.86744\n",
      "Epoch: 370      |       Error: 27.86744\n",
      "Epoch: 371      |       Error: 27.86744\n",
      "Epoch: 372      |       Error: 27.86744\n",
      "Epoch: 373      |       Error: 27.86744\n",
      "Epoch: 374      |       Error: 27.86744\n"
     ]
    },
    {
     "name": "stderr",
     "output_type": "stream",
     "text": [
      " 38%|███▊      | 379/1000 [00:14<00:24, 25.61it/s]"
     ]
    },
    {
     "name": "stdout",
     "output_type": "stream",
     "text": [
      "Epoch: 375      |       Error: 27.86744\n",
      "Epoch: 376      |       Error: 27.86744\n",
      "Epoch: 377      |       Error: 27.86744\n",
      "Epoch: 378      |       Error: 27.86744\n",
      "Epoch: 379      |       Error: 27.86744\n",
      "Epoch: 380      |       Error: 27.86744\n",
      "Epoch: 381      |       Error: 27.86744\n"
     ]
    },
    {
     "name": "stderr",
     "output_type": "stream",
     "text": [
      " 39%|███▊      | 387/1000 [00:14<00:20, 29.54it/s]"
     ]
    },
    {
     "name": "stdout",
     "output_type": "stream",
     "text": [
      "Epoch: 382      |       Error: 27.86744\n",
      "Epoch: 383      |       Error: 27.86744\n",
      "Epoch: 384      |       Error: 27.86744\n",
      "Epoch: 385      |       Error: 27.86744\n",
      "Epoch: 386      |       Error: 27.86744\n",
      "Epoch: 387      |       Error: 27.86744\n",
      "Epoch: 388      |       Error: 27.86744\n"
     ]
    },
    {
     "name": "stderr",
     "output_type": "stream",
     "text": [
      " 40%|███▉      | 395/1000 [00:15<00:19, 30.61it/s]"
     ]
    },
    {
     "name": "stdout",
     "output_type": "stream",
     "text": [
      "Epoch: 389      |       Error: 27.86744\n",
      "Epoch: 390      |       Error: 27.86744\n",
      "Epoch: 391      |       Error: 27.86744\n",
      "Epoch: 392      |       Error: 27.86744\n",
      "Epoch: 393      |       Error: 27.86744\n",
      "Epoch: 394      |       Error: 27.86744\n",
      "Epoch: 395      |       Error: 27.86744\n"
     ]
    },
    {
     "name": "stderr",
     "output_type": "stream",
     "text": [
      " 40%|████      | 403/1000 [00:15<00:17, 33.80it/s]"
     ]
    },
    {
     "name": "stdout",
     "output_type": "stream",
     "text": [
      "Epoch: 396      |       Error: 27.86744\n",
      "Epoch: 397      |       Error: 27.86744\n",
      "Epoch: 398      |       Error: 27.86744\n",
      "Epoch: 399      |       Error: 27.86744\n",
      "Epoch: 400      |       Error: 27.86744\n",
      "Epoch: 401      |       Error: 27.86744\n",
      "Epoch: 402      |       Error: 27.86744\n",
      "Epoch: 403      |       Error: 27.86744\n"
     ]
    },
    {
     "name": "stderr",
     "output_type": "stream",
     "text": [
      " 41%|████      | 411/1000 [00:15<00:17, 34.55it/s]"
     ]
    },
    {
     "name": "stdout",
     "output_type": "stream",
     "text": [
      "Epoch: 404      |       Error: 27.86744\n",
      "Epoch: 405      |       Error: 27.86744\n",
      "Epoch: 406      |       Error: 27.86744\n",
      "Epoch: 407      |       Error: 27.86744\n",
      "Epoch: 408      |       Error: 27.86744\n",
      "Epoch: 409      |       Error: 27.86744\n",
      "Epoch: 410      |       Error: 27.86744\n",
      "Epoch: 411      |       Error: 27.86744\n"
     ]
    },
    {
     "name": "stderr",
     "output_type": "stream",
     "text": [
      " 42%|████▏     | 419/1000 [00:15<00:16, 34.42it/s]"
     ]
    },
    {
     "name": "stdout",
     "output_type": "stream",
     "text": [
      "Epoch: 412      |       Error: 27.86744\n",
      "Epoch: 413      |       Error: 27.86744\n",
      "Epoch: 414      |       Error: 27.86744\n",
      "Epoch: 415      |       Error: 27.86744\n",
      "Epoch: 416      |       Error: 27.86744\n",
      "Epoch: 417      |       Error: 27.86744\n",
      "Epoch: 418      |       Error: 27.86744\n",
      "Epoch: 419      |       Error: 27.86744\n"
     ]
    },
    {
     "name": "stderr",
     "output_type": "stream",
     "text": [
      " 43%|████▎     | 427/1000 [00:15<00:16, 34.18it/s]"
     ]
    },
    {
     "name": "stdout",
     "output_type": "stream",
     "text": [
      "Epoch: 420      |       Error: 27.86744\n",
      "Epoch: 421      |       Error: 27.86744\n",
      "Epoch: 422      |       Error: 27.86744\n",
      "Epoch: 423      |       Error: 27.86744\n",
      "Epoch: 424      |       Error: 27.86744\n",
      "Epoch: 425      |       Error: 27.86744\n",
      "Epoch: 426      |       Error: 27.86744\n"
     ]
    },
    {
     "name": "stderr",
     "output_type": "stream",
     "text": [
      " 43%|████▎     | 431/1000 [00:16<00:16, 33.63it/s]"
     ]
    },
    {
     "name": "stdout",
     "output_type": "stream",
     "text": [
      "Epoch: 427      |       Error: 27.86744\n",
      "Epoch: 428      |       Error: 27.86744\n",
      "Epoch: 429      |       Error: 27.86744\n",
      "Epoch: 430      |       Error: 27.86744\n",
      "Epoch: 431      |       Error: 27.86744\n",
      "Epoch: 432      |       Error: 27.86744\n",
      "Epoch: 433      |       Error: 27.86744\n",
      "Epoch: 434      |       Error: 27.86744\n"
     ]
    },
    {
     "name": "stderr",
     "output_type": "stream",
     "text": [
      " 44%|████▍     | 440/1000 [00:16<00:15, 36.49it/s]"
     ]
    },
    {
     "name": "stdout",
     "output_type": "stream",
     "text": [
      "Epoch: 435      |       Error: 27.86744\n",
      "Epoch: 436      |       Error: 27.86744\n",
      "Epoch: 437      |       Error: 27.86744\n",
      "Epoch: 438      |       Error: 27.86744\n",
      "Epoch: 439      |       Error: 27.86744\n",
      "Epoch: 440      |       Error: 27.86744\n",
      "Epoch: 441      |       Error: 27.86744\n",
      "Epoch: 442      |       Error: 27.86744\n"
     ]
    },
    {
     "name": "stderr",
     "output_type": "stream",
     "text": [
      " 45%|████▍     | 448/1000 [00:16<00:15, 35.66it/s]"
     ]
    },
    {
     "name": "stdout",
     "output_type": "stream",
     "text": [
      "Epoch: 443      |       Error: 27.86744\n",
      "Epoch: 444      |       Error: 27.86744\n",
      "Epoch: 445      |       Error: 27.86744\n",
      "Epoch: 446      |       Error: 27.86744\n",
      "Epoch: 447      |       Error: 27.86744\n",
      "Epoch: 448      |       Error: 27.86744\n",
      "Epoch: 449      |       Error: 27.86744\n",
      "Epoch: 450      |       Error: 27.86744\n"
     ]
    },
    {
     "name": "stderr",
     "output_type": "stream",
     "text": [
      " 46%|████▌     | 457/1000 [00:16<00:14, 36.65it/s]"
     ]
    },
    {
     "name": "stdout",
     "output_type": "stream",
     "text": [
      "Epoch: 451      |       Error: 27.86744\n",
      "Epoch: 452      |       Error: 27.86744\n",
      "Epoch: 453      |       Error: 27.86744\n",
      "Epoch: 454      |       Error: 27.86744\n",
      "Epoch: 455      |       Error: 27.86744\n",
      "Epoch: 456      |       Error: 27.86744\n",
      "Epoch: 457      |       Error: 27.86744\n",
      "Epoch: 458      |       Error: 27.86744\n"
     ]
    },
    {
     "name": "stderr",
     "output_type": "stream",
     "text": [
      " 47%|████▋     | 466/1000 [00:17<00:14, 37.54it/s]"
     ]
    },
    {
     "name": "stdout",
     "output_type": "stream",
     "text": [
      "Epoch: 459      |       Error: 27.86744\n",
      "Epoch: 460      |       Error: 27.86744\n",
      "Epoch: 461      |       Error: 27.86744\n",
      "Epoch: 462      |       Error: 27.86744\n",
      "Epoch: 463      |       Error: 27.86744\n",
      "Epoch: 464      |       Error: 27.86744\n",
      "Epoch: 465      |       Error: 27.86744\n",
      "Epoch: 466      |       Error: 27.86744\n"
     ]
    },
    {
     "name": "stderr",
     "output_type": "stream",
     "text": [
      " 47%|████▋     | 474/1000 [00:17<00:14, 36.74it/s]"
     ]
    },
    {
     "name": "stdout",
     "output_type": "stream",
     "text": [
      "Epoch: 467      |       Error: 27.86744\n",
      "Epoch: 468      |       Error: 27.86744\n",
      "Epoch: 469      |       Error: 27.86744\n",
      "Epoch: 470      |       Error: 27.86744\n",
      "Epoch: 471      |       Error: 27.86744\n",
      "Epoch: 472      |       Error: 27.86744\n",
      "Epoch: 473      |       Error: 27.86744\n",
      "Epoch: 474      |       Error: 27.86744\n"
     ]
    },
    {
     "name": "stderr",
     "output_type": "stream",
     "text": [
      " 48%|████▊     | 478/1000 [00:17<00:15, 33.88it/s]"
     ]
    },
    {
     "name": "stdout",
     "output_type": "stream",
     "text": [
      "Epoch: 475      |       Error: 27.86744\n",
      "Epoch: 476      |       Error: 27.86744\n",
      "Epoch: 477      |       Error: 27.86744\n",
      "Epoch: 478      |       Error: 27.86744\n",
      "Epoch: 479      |       Error: 27.86744\n"
     ]
    },
    {
     "name": "stderr",
     "output_type": "stream",
     "text": [
      " 48%|████▊     | 482/1000 [00:17<00:17, 29.99it/s]"
     ]
    },
    {
     "name": "stdout",
     "output_type": "stream",
     "text": [
      "Epoch: 480      |       Error: 27.86744\n",
      "Epoch: 481      |       Error: 27.86744\n",
      "Epoch: 482      |       Error: 27.86744\n"
     ]
    },
    {
     "name": "stderr",
     "output_type": "stream",
     "text": [
      " 49%|████▊     | 486/1000 [00:17<00:22, 23.25it/s]"
     ]
    },
    {
     "name": "stdout",
     "output_type": "stream",
     "text": [
      "Epoch: 483      |       Error: 27.86744\n",
      "Epoch: 484      |       Error: 27.86744\n",
      "Epoch: 485      |       Error: 27.86744\n",
      "Epoch: 486      |       Error: 27.86744\n",
      "Epoch: 487      |       Error: 27.86744\n"
     ]
    },
    {
     "name": "stderr",
     "output_type": "stream",
     "text": [
      " 49%|████▉     | 489/1000 [00:17<00:21, 23.29it/s]"
     ]
    },
    {
     "name": "stdout",
     "output_type": "stream",
     "text": [
      "Epoch: 488      |       Error: 27.86744\n",
      "Epoch: 489      |       Error: 27.86744\n"
     ]
    },
    {
     "name": "stderr",
     "output_type": "stream",
     "text": [
      " 49%|████▉     | 492/1000 [00:18<00:32, 15.70it/s]"
     ]
    },
    {
     "name": "stdout",
     "output_type": "stream",
     "text": [
      "Epoch: 490      |       Error: 27.86744\n",
      "Epoch: 491      |       Error: 27.86744\n",
      "Epoch: 492      |       Error: 27.86744\n"
     ]
    },
    {
     "name": "stderr",
     "output_type": "stream",
     "text": [
      " 50%|████▉     | 497/1000 [00:18<00:32, 15.50it/s]"
     ]
    },
    {
     "name": "stdout",
     "output_type": "stream",
     "text": [
      "Epoch: 493      |       Error: 27.86744\n",
      "Epoch: 494      |       Error: 27.86744\n",
      "Epoch: 495      |       Error: 27.86744\n",
      "Epoch: 496      |       Error: 27.86744\n"
     ]
    },
    {
     "name": "stderr",
     "output_type": "stream",
     "text": [
      " 50%|█████     | 501/1000 [00:18<00:34, 14.67it/s]"
     ]
    },
    {
     "name": "stdout",
     "output_type": "stream",
     "text": [
      "Epoch: 497      |       Error: 27.86744\n",
      "Epoch: 498      |       Error: 27.86744\n",
      "Epoch: 499      |       Error: 27.86744\n",
      "Epoch: 500      |       Error: 27.86744\n"
     ]
    },
    {
     "name": "stderr",
     "output_type": "stream",
     "text": [
      " 50%|█████     | 503/1000 [00:19<00:34, 14.25it/s]"
     ]
    },
    {
     "name": "stdout",
     "output_type": "stream",
     "text": [
      "Epoch: 501      |       Error: 27.86744\n",
      "Epoch: 502      |       Error: 27.86744\n",
      "Epoch: 503      |       Error: 27.86744\n"
     ]
    },
    {
     "name": "stderr",
     "output_type": "stream",
     "text": [
      " 51%|█████     | 507/1000 [00:19<00:35, 13.93it/s]"
     ]
    },
    {
     "name": "stdout",
     "output_type": "stream",
     "text": [
      "Epoch: 504      |       Error: 27.86744\n",
      "Epoch: 505      |       Error: 27.86744\n",
      "Epoch: 506      |       Error: 27.86744\n",
      "Epoch: 507      |       Error: 27.86744\n"
     ]
    },
    {
     "name": "stderr",
     "output_type": "stream",
     "text": [
      " 51%|█████     | 511/1000 [00:19<00:33, 14.65it/s]"
     ]
    },
    {
     "name": "stdout",
     "output_type": "stream",
     "text": [
      "Epoch: 508      |       Error: 27.86744\n",
      "Epoch: 509      |       Error: 27.86744\n",
      "Epoch: 510      |       Error: 27.86744\n",
      "Epoch: 511      |       Error: 27.86744\n"
     ]
    },
    {
     "name": "stderr",
     "output_type": "stream",
     "text": [
      " 52%|█████▏    | 515/1000 [00:19<00:33, 14.27it/s]"
     ]
    },
    {
     "name": "stdout",
     "output_type": "stream",
     "text": [
      "Epoch: 512      |       Error: 27.86744\n",
      "Epoch: 513      |       Error: 27.86744\n",
      "Epoch: 514      |       Error: 27.86744\n"
     ]
    },
    {
     "name": "stderr",
     "output_type": "stream",
     "text": [
      " 52%|█████▏    | 519/1000 [00:20<00:31, 15.39it/s]"
     ]
    },
    {
     "name": "stdout",
     "output_type": "stream",
     "text": [
      "Epoch: 515      |       Error: 27.86744\n",
      "Epoch: 516      |       Error: 27.86744\n",
      "Epoch: 517      |       Error: 27.86744\n",
      "Epoch: 518      |       Error: 27.86744\n",
      "Epoch: 519      |       Error: 27.86744\n"
     ]
    },
    {
     "name": "stderr",
     "output_type": "stream",
     "text": [
      " 52%|█████▎    | 525/1000 [00:20<00:22, 21.07it/s]"
     ]
    },
    {
     "name": "stdout",
     "output_type": "stream",
     "text": [
      "Epoch: 520      |       Error: 27.86744\n",
      "Epoch: 521      |       Error: 27.86744\n",
      "Epoch: 522      |       Error: 27.86744\n",
      "Epoch: 523      |       Error: 27.86744\n",
      "Epoch: 524      |       Error: 27.86744\n",
      "Epoch: 525      |       Error: 27.86744\n"
     ]
    },
    {
     "name": "stderr",
     "output_type": "stream",
     "text": [
      " 53%|█████▎    | 531/1000 [00:20<00:19, 24.12it/s]"
     ]
    },
    {
     "name": "stdout",
     "output_type": "stream",
     "text": [
      "Epoch: 526      |       Error: 27.86744\n",
      "Epoch: 527      |       Error: 27.86744\n",
      "Epoch: 528      |       Error: 27.86744\n",
      "Epoch: 529      |       Error: 27.86744\n",
      "Epoch: 530      |       Error: 27.86744\n",
      "Epoch: 531      |       Error: 27.86744\n"
     ]
    },
    {
     "name": "stderr",
     "output_type": "stream",
     "text": [
      " 54%|█████▍    | 538/1000 [00:20<00:17, 27.04it/s]"
     ]
    },
    {
     "name": "stdout",
     "output_type": "stream",
     "text": [
      "Epoch: 532      |       Error: 27.86744\n",
      "Epoch: 533      |       Error: 27.86744\n",
      "Epoch: 534      |       Error: 27.86744\n",
      "Epoch: 535      |       Error: 27.86744\n",
      "Epoch: 536      |       Error: 27.86744\n",
      "Epoch: 537      |       Error: 27.86744\n"
     ]
    },
    {
     "name": "stderr",
     "output_type": "stream",
     "text": [
      " 54%|█████▍    | 541/1000 [00:20<00:16, 27.16it/s]"
     ]
    },
    {
     "name": "stdout",
     "output_type": "stream",
     "text": [
      "Epoch: 538      |       Error: 27.86744\n",
      "Epoch: 539      |       Error: 27.86744\n",
      "Epoch: 540      |       Error: 27.86744\n",
      "Epoch: 541      |       Error: 27.86744\n",
      "Epoch: 542      |       Error: 27.86744\n"
     ]
    },
    {
     "name": "stderr",
     "output_type": "stream",
     "text": [
      " 55%|█████▍    | 547/1000 [00:21<00:18, 23.88it/s]"
     ]
    },
    {
     "name": "stdout",
     "output_type": "stream",
     "text": [
      "Epoch: 543      |       Error: 27.86744\n",
      "Epoch: 544      |       Error: 27.86744\n",
      "Epoch: 545      |       Error: 27.86744\n",
      "Epoch: 546      |       Error: 27.86744\n",
      "Epoch: 547      |       Error: 27.86744\n"
     ]
    },
    {
     "name": "stderr",
     "output_type": "stream",
     "text": [
      " 55%|█████▌    | 553/1000 [00:21<00:18, 24.81it/s]"
     ]
    },
    {
     "name": "stdout",
     "output_type": "stream",
     "text": [
      "Epoch: 548      |       Error: 27.86744\n",
      "Epoch: 549      |       Error: 27.86744\n",
      "Epoch: 550      |       Error: 27.86744\n",
      "Epoch: 551      |       Error: 27.86744\n",
      "Epoch: 552      |       Error: 27.86744\n"
     ]
    },
    {
     "name": "stderr",
     "output_type": "stream",
     "text": [
      " 56%|█████▌    | 559/1000 [00:21<00:17, 25.57it/s]"
     ]
    },
    {
     "name": "stdout",
     "output_type": "stream",
     "text": [
      "Epoch: 553      |       Error: 27.86744\n",
      "Epoch: 554      |       Error: 27.86744\n",
      "Epoch: 555      |       Error: 27.86744\n",
      "Epoch: 556      |       Error: 27.86744\n",
      "Epoch: 557      |       Error: 27.86744\n",
      "Epoch: 558      |       Error: 27.86744\n"
     ]
    },
    {
     "name": "stderr",
     "output_type": "stream",
     "text": [
      " 56%|█████▌    | 562/1000 [00:21<00:20, 21.87it/s]"
     ]
    },
    {
     "name": "stdout",
     "output_type": "stream",
     "text": [
      "Epoch: 559      |       Error: 27.86744\n",
      "Epoch: 560      |       Error: 27.86744\n",
      "Epoch: 561      |       Error: 27.86744\n"
     ]
    },
    {
     "name": "stderr",
     "output_type": "stream",
     "text": [
      " 56%|█████▋    | 565/1000 [00:22<00:19, 21.76it/s]"
     ]
    },
    {
     "name": "stdout",
     "output_type": "stream",
     "text": [
      "Epoch: 562      |       Error: 27.86744\n",
      "Epoch: 563      |       Error: 27.86744\n",
      "Epoch: 564      |       Error: 27.86744\n",
      "Epoch: 565      |       Error: 27.86744\n",
      "Epoch: 566      |       Error: 27.86744\n"
     ]
    },
    {
     "name": "stderr",
     "output_type": "stream",
     "text": [
      " 57%|█████▋    | 571/1000 [00:22<00:17, 23.85it/s]"
     ]
    },
    {
     "name": "stdout",
     "output_type": "stream",
     "text": [
      "Epoch: 567      |       Error: 27.86744\n",
      "Epoch: 568      |       Error: 27.86744\n",
      "Epoch: 569      |       Error: 27.86744\n",
      "Epoch: 570      |       Error: 27.86744\n",
      "Epoch: 571      |       Error: 27.86744\n",
      "Epoch: 572      |       Error: 27.86744\n"
     ]
    },
    {
     "name": "stderr",
     "output_type": "stream",
     "text": [
      " 58%|█████▊    | 577/1000 [00:22<00:18, 22.80it/s]"
     ]
    },
    {
     "name": "stdout",
     "output_type": "stream",
     "text": [
      "Epoch: 573      |       Error: 27.86744\n",
      "Epoch: 574      |       Error: 27.86744\n",
      "Epoch: 575      |       Error: 27.86744\n",
      "Epoch: 576      |       Error: 27.86744\n",
      "Epoch: 577      |       Error: 27.86744\n"
     ]
    },
    {
     "name": "stderr",
     "output_type": "stream",
     "text": [
      " 58%|█████▊    | 583/1000 [00:22<00:17, 23.97it/s]"
     ]
    },
    {
     "name": "stdout",
     "output_type": "stream",
     "text": [
      "Epoch: 578      |       Error: 27.86744\n",
      "Epoch: 579      |       Error: 27.86744\n",
      "Epoch: 580      |       Error: 27.86744\n",
      "Epoch: 581      |       Error: 27.86744\n",
      "Epoch: 582      |       Error: 27.86744\n",
      "Epoch: 583      |       Error: 27.86744\n"
     ]
    },
    {
     "name": "stderr",
     "output_type": "stream",
     "text": [
      " 59%|█████▉    | 589/1000 [00:22<00:16, 25.66it/s]"
     ]
    },
    {
     "name": "stdout",
     "output_type": "stream",
     "text": [
      "Epoch: 584      |       Error: 27.86744\n",
      "Epoch: 585      |       Error: 27.86744\n",
      "Epoch: 586      |       Error: 27.86744\n",
      "Epoch: 587      |       Error: 27.86744\n",
      "Epoch: 588      |       Error: 27.86744\n",
      "Epoch: 589      |       Error: 27.86744\n"
     ]
    },
    {
     "name": "stderr",
     "output_type": "stream",
     "text": [
      " 60%|█████▉    | 595/1000 [00:23<00:17, 23.08it/s]"
     ]
    },
    {
     "name": "stdout",
     "output_type": "stream",
     "text": [
      "Epoch: 590      |       Error: 27.86744\n",
      "Epoch: 591      |       Error: 27.86744\n",
      "Epoch: 592      |       Error: 27.86744\n",
      "Epoch: 593      |       Error: 27.86744\n",
      "Epoch: 594      |       Error: 27.86744\n"
     ]
    },
    {
     "name": "stderr",
     "output_type": "stream",
     "text": [
      " 60%|█████▉    | 598/1000 [00:23<00:19, 20.18it/s]"
     ]
    },
    {
     "name": "stdout",
     "output_type": "stream",
     "text": [
      "Epoch: 595      |       Error: 27.86744\n",
      "Epoch: 596      |       Error: 27.86744\n",
      "Epoch: 597      |       Error: 27.86744\n",
      "Epoch: 598      |       Error: 27.86744\n"
     ]
    },
    {
     "name": "stderr",
     "output_type": "stream",
     "text": [
      " 60%|██████    | 604/1000 [00:23<00:19, 20.62it/s]"
     ]
    },
    {
     "name": "stdout",
     "output_type": "stream",
     "text": [
      "Epoch: 599      |       Error: 27.86744\n",
      "Epoch: 600      |       Error: 27.86744\n",
      "Epoch: 601      |       Error: 27.86744\n",
      "Epoch: 602      |       Error: 27.86744\n",
      "Epoch: 603      |       Error: 27.86744\n",
      "Epoch: 604      |       Error: 27.86744\n"
     ]
    },
    {
     "name": "stderr",
     "output_type": "stream",
     "text": [
      " 61%|██████    | 607/1000 [00:23<00:20, 19.29it/s]"
     ]
    },
    {
     "name": "stdout",
     "output_type": "stream",
     "text": [
      "Epoch: 605      |       Error: 27.86744\n",
      "Epoch: 606      |       Error: 27.86744\n",
      "Epoch: 607      |       Error: 27.86744\n",
      "Epoch: 608      |       Error: 27.86744\n",
      "Epoch: 609      |       Error: 27.86744\n"
     ]
    },
    {
     "name": "stderr",
     "output_type": "stream",
     "text": [
      " 62%|██████▏   | 615/1000 [00:24<00:15, 24.68it/s]"
     ]
    },
    {
     "name": "stdout",
     "output_type": "stream",
     "text": [
      "Epoch: 610      |       Error: 27.86744\n",
      "Epoch: 611      |       Error: 27.86744\n",
      "Epoch: 612      |       Error: 27.86744\n",
      "Epoch: 613      |       Error: 27.86744\n",
      "Epoch: 614      |       Error: 27.86744\n",
      "Epoch: 615      |       Error: 27.86744\n",
      "Epoch: 616      |       Error: 27.86744\n"
     ]
    },
    {
     "name": "stderr",
     "output_type": "stream",
     "text": [
      " 62%|██████▏   | 619/1000 [00:24<00:14, 26.73it/s]"
     ]
    },
    {
     "name": "stdout",
     "output_type": "stream",
     "text": [
      "Epoch: 617      |       Error: 27.86744\n",
      "Epoch: 618      |       Error: 27.86744\n",
      "Epoch: 619      |       Error: 27.86744\n",
      "Epoch: 620      |       Error: 27.86744\n"
     ]
    },
    {
     "name": "stderr",
     "output_type": "stream",
     "text": [
      " 62%|██████▎   | 625/1000 [00:24<00:18, 20.31it/s]"
     ]
    },
    {
     "name": "stdout",
     "output_type": "stream",
     "text": [
      "Epoch: 621      |       Error: 27.86744\n",
      "Epoch: 622      |       Error: 27.86744\n",
      "Epoch: 623      |       Error: 27.86744\n",
      "Epoch: 624      |       Error: 27.86744\n"
     ]
    },
    {
     "name": "stderr",
     "output_type": "stream",
     "text": [
      " 63%|██████▎   | 628/1000 [00:24<00:20, 18.15it/s]"
     ]
    },
    {
     "name": "stdout",
     "output_type": "stream",
     "text": [
      "Epoch: 625      |       Error: 27.86744\n",
      "Epoch: 626      |       Error: 27.86744\n",
      "Epoch: 627      |       Error: 27.86744\n",
      "Epoch: 628      |       Error: 27.86744\n"
     ]
    },
    {
     "name": "stderr",
     "output_type": "stream",
     "text": [
      " 63%|██████▎   | 632/1000 [00:25<00:20, 18.01it/s]"
     ]
    },
    {
     "name": "stdout",
     "output_type": "stream",
     "text": [
      "Epoch: 629      |       Error: 27.86744\n",
      "Epoch: 630      |       Error: 27.86744\n",
      "Epoch: 631      |       Error: 27.86744\n",
      "Epoch: 632      |       Error: 27.86744\n"
     ]
    },
    {
     "name": "stderr",
     "output_type": "stream",
     "text": [
      " 64%|██████▎   | 636/1000 [00:25<00:20, 18.06it/s]"
     ]
    },
    {
     "name": "stdout",
     "output_type": "stream",
     "text": [
      "Epoch: 633      |       Error: 27.86744\n",
      "Epoch: 634      |       Error: 27.86744\n",
      "Epoch: 635      |       Error: 27.86744\n",
      "Epoch: 636      |       Error: 27.86744\n"
     ]
    },
    {
     "name": "stderr",
     "output_type": "stream",
     "text": [
      " 64%|██████▍   | 640/1000 [00:25<00:20, 17.96it/s]"
     ]
    },
    {
     "name": "stdout",
     "output_type": "stream",
     "text": [
      "Epoch: 637      |       Error: 27.86744\n",
      "Epoch: 638      |       Error: 27.86744\n",
      "Epoch: 639      |       Error: 27.86744\n",
      "Epoch: 640      |       Error: 27.86744\n",
      "Epoch: 641      |       Error: 27.86744\n"
     ]
    },
    {
     "name": "stderr",
     "output_type": "stream",
     "text": [
      " 64%|██████▍   | 645/1000 [00:25<00:21, 16.31it/s]"
     ]
    },
    {
     "name": "stdout",
     "output_type": "stream",
     "text": [
      "Epoch: 642      |       Error: 27.86744\n",
      "Epoch: 643      |       Error: 27.86744\n",
      "Epoch: 644      |       Error: 27.86744\n",
      "Epoch: 645      |       Error: 27.86744\n",
      "Epoch: 646      |       Error: 27.86744\n",
      "Epoch: 647      |       Error: 27.86744\n"
     ]
    },
    {
     "name": "stderr",
     "output_type": "stream",
     "text": [
      " 65%|██████▌   | 653/1000 [00:26<00:14, 24.35it/s]"
     ]
    },
    {
     "name": "stdout",
     "output_type": "stream",
     "text": [
      "Epoch: 648      |       Error: 27.86744\n",
      "Epoch: 649      |       Error: 27.86744\n",
      "Epoch: 650      |       Error: 27.86744\n",
      "Epoch: 651      |       Error: 27.86744\n",
      "Epoch: 652      |       Error: 27.86744\n",
      "Epoch: 653      |       Error: 27.86744\n",
      "Epoch: 654      |       Error: 27.86744\n"
     ]
    },
    {
     "name": "stderr",
     "output_type": "stream",
     "text": [
      " 66%|██████▌   | 660/1000 [00:26<00:12, 27.11it/s]"
     ]
    },
    {
     "name": "stdout",
     "output_type": "stream",
     "text": [
      "Epoch: 655      |       Error: 27.86744\n",
      "Epoch: 656      |       Error: 27.86744\n",
      "Epoch: 657      |       Error: 27.86744\n",
      "Epoch: 658      |       Error: 27.86744\n",
      "Epoch: 659      |       Error: 27.86744\n",
      "Epoch: 660      |       Error: 27.86744\n",
      "Epoch: 661      |       Error: 27.86744\n"
     ]
    },
    {
     "name": "stderr",
     "output_type": "stream",
     "text": [
      " 67%|██████▋   | 667/1000 [00:26<00:12, 26.89it/s]"
     ]
    },
    {
     "name": "stdout",
     "output_type": "stream",
     "text": [
      "Epoch: 662      |       Error: 27.86744\n",
      "Epoch: 663      |       Error: 27.86744\n",
      "Epoch: 664      |       Error: 27.86744\n",
      "Epoch: 665      |       Error: 27.86744\n",
      "Epoch: 666      |       Error: 27.86744\n"
     ]
    },
    {
     "name": "stderr",
     "output_type": "stream",
     "text": [
      " 67%|██████▋   | 670/1000 [00:26<00:13, 24.37it/s]"
     ]
    },
    {
     "name": "stdout",
     "output_type": "stream",
     "text": [
      "Epoch: 667      |       Error: 27.86744\n",
      "Epoch: 668      |       Error: 27.86744\n",
      "Epoch: 669      |       Error: 27.86744\n",
      "Epoch: 670      |       Error: 27.86744\n"
     ]
    },
    {
     "name": "stderr",
     "output_type": "stream",
     "text": [
      " 67%|██████▋   | 673/1000 [00:26<00:15, 21.40it/s]"
     ]
    },
    {
     "name": "stdout",
     "output_type": "stream",
     "text": [
      "Epoch: 671      |       Error: 27.86744\n",
      "Epoch: 672      |       Error: 27.86744\n",
      "Epoch: 673      |       Error: 27.86744\n",
      "Epoch: 674      |       Error: 27.86744\n"
     ]
    },
    {
     "name": "stderr",
     "output_type": "stream",
     "text": [
      " 68%|██████▊   | 679/1000 [00:27<00:16, 19.78it/s]"
     ]
    },
    {
     "name": "stdout",
     "output_type": "stream",
     "text": [
      "Epoch: 675      |       Error: 27.86744\n",
      "Epoch: 676      |       Error: 27.86744\n",
      "Epoch: 677      |       Error: 27.86744\n",
      "Epoch: 678      |       Error: 27.86744\n",
      "Epoch: 679      |       Error: 27.86744\n"
     ]
    },
    {
     "name": "stderr",
     "output_type": "stream",
     "text": [
      " 68%|██████▊   | 682/1000 [00:27<00:15, 20.12it/s]"
     ]
    },
    {
     "name": "stdout",
     "output_type": "stream",
     "text": [
      "Epoch: 680      |       Error: 27.86744\n",
      "Epoch: 681      |       Error: 27.86744\n",
      "Epoch: 682      |       Error: 27.86744\n",
      "Epoch: 683      |       Error: 27.86744\n"
     ]
    },
    {
     "name": "stderr",
     "output_type": "stream",
     "text": [
      " 69%|██████▉   | 688/1000 [00:27<00:14, 21.11it/s]"
     ]
    },
    {
     "name": "stdout",
     "output_type": "stream",
     "text": [
      "Epoch: 684      |       Error: 27.86744\n",
      "Epoch: 685      |       Error: 27.86744\n",
      "Epoch: 686      |       Error: 27.86744\n",
      "Epoch: 687      |       Error: 27.86744\n",
      "Epoch: 688      |       Error: 27.86744\n",
      "Epoch: 689      |       Error: 27.86744\n"
     ]
    },
    {
     "name": "stderr",
     "output_type": "stream",
     "text": [
      " 69%|██████▉   | 694/1000 [00:28<00:15, 19.96it/s]"
     ]
    },
    {
     "name": "stdout",
     "output_type": "stream",
     "text": [
      "Epoch: 690      |       Error: 27.86744\n",
      "Epoch: 691      |       Error: 27.86744\n",
      "Epoch: 692      |       Error: 27.86744\n",
      "Epoch: 693      |       Error: 27.86744\n",
      "Epoch: 694      |       Error: 27.86744\n"
     ]
    },
    {
     "name": "stderr",
     "output_type": "stream",
     "text": [
      " 70%|██████▉   | 697/1000 [00:28<00:14, 21.07it/s]"
     ]
    },
    {
     "name": "stdout",
     "output_type": "stream",
     "text": [
      "Epoch: 695      |       Error: 27.86744\n",
      "Epoch: 696      |       Error: 27.86744\n",
      "Epoch: 697      |       Error: 27.86744\n",
      "Epoch: 698      |       Error: 27.86744\n"
     ]
    },
    {
     "name": "stderr",
     "output_type": "stream",
     "text": [
      " 70%|███████   | 702/1000 [00:28<00:16, 17.61it/s]"
     ]
    },
    {
     "name": "stdout",
     "output_type": "stream",
     "text": [
      "Epoch: 699      |       Error: 27.86744\n",
      "Epoch: 700      |       Error: 27.86744\n",
      "Epoch: 701      |       Error: 27.86744\n"
     ]
    },
    {
     "name": "stderr",
     "output_type": "stream",
     "text": [
      " 71%|███████   | 706/1000 [00:28<00:16, 17.60it/s]"
     ]
    },
    {
     "name": "stdout",
     "output_type": "stream",
     "text": [
      "Epoch: 702      |       Error: 27.86744\n",
      "Epoch: 703      |       Error: 27.86744\n",
      "Epoch: 704      |       Error: 27.86744\n",
      "Epoch: 705      |       Error: 27.86744\n",
      "Epoch: 706      |       Error: 27.86744\n"
     ]
    },
    {
     "name": "stderr",
     "output_type": "stream",
     "text": [
      " 71%|███████   | 712/1000 [00:29<00:14, 20.11it/s]"
     ]
    },
    {
     "name": "stdout",
     "output_type": "stream",
     "text": [
      "Epoch: 707      |       Error: 27.86744\n",
      "Epoch: 708      |       Error: 27.86744\n",
      "Epoch: 709      |       Error: 27.86744\n",
      "Epoch: 710      |       Error: 27.86744\n",
      "Epoch: 711      |       Error: 27.86744\n"
     ]
    },
    {
     "name": "stderr",
     "output_type": "stream",
     "text": [
      " 72%|███████▏  | 718/1000 [00:29<00:11, 23.79it/s]"
     ]
    },
    {
     "name": "stdout",
     "output_type": "stream",
     "text": [
      "Epoch: 712      |       Error: 27.86744\n",
      "Epoch: 713      |       Error: 27.86744\n",
      "Epoch: 714      |       Error: 27.86744\n",
      "Epoch: 715      |       Error: 27.86744\n",
      "Epoch: 716      |       Error: 27.86744\n",
      "Epoch: 717      |       Error: 27.86744\n"
     ]
    },
    {
     "name": "stderr",
     "output_type": "stream",
     "text": [
      " 72%|███████▏  | 724/1000 [00:29<00:11, 24.66it/s]"
     ]
    },
    {
     "name": "stdout",
     "output_type": "stream",
     "text": [
      "Epoch: 718      |       Error: 27.86744\n",
      "Epoch: 719      |       Error: 27.86744\n",
      "Epoch: 720      |       Error: 27.86744\n",
      "Epoch: 721      |       Error: 27.86744\n",
      "Epoch: 722      |       Error: 27.86744\n",
      "Epoch: 723      |       Error: 27.86744\n"
     ]
    },
    {
     "name": "stderr",
     "output_type": "stream",
     "text": [
      " 73%|███████▎  | 730/1000 [00:29<00:10, 26.42it/s]"
     ]
    },
    {
     "name": "stdout",
     "output_type": "stream",
     "text": [
      "Epoch: 724      |       Error: 27.86744\n",
      "Epoch: 725      |       Error: 27.86744\n",
      "Epoch: 726      |       Error: 27.86744\n",
      "Epoch: 727      |       Error: 27.86744\n",
      "Epoch: 728      |       Error: 27.86744\n",
      "Epoch: 729      |       Error: 27.86744\n"
     ]
    },
    {
     "name": "stderr",
     "output_type": "stream",
     "text": [
      " 73%|███████▎  | 733/1000 [00:29<00:12, 22.13it/s]"
     ]
    },
    {
     "name": "stdout",
     "output_type": "stream",
     "text": [
      "Epoch: 730      |       Error: 27.86744\n",
      "Epoch: 731      |       Error: 27.86744\n",
      "Epoch: 732      |       Error: 27.86744\n"
     ]
    },
    {
     "name": "stderr",
     "output_type": "stream",
     "text": [
      " 74%|███████▎  | 736/1000 [00:30<00:12, 20.98it/s]"
     ]
    },
    {
     "name": "stdout",
     "output_type": "stream",
     "text": [
      "Epoch: 733      |       Error: 27.86744\n",
      "Epoch: 734      |       Error: 27.86744\n",
      "Epoch: 735      |       Error: 27.86744\n",
      "Epoch: 736      |       Error: 27.86744\n",
      "Epoch: 737      |       Error: 27.86744\n"
     ]
    },
    {
     "name": "stderr",
     "output_type": "stream",
     "text": [
      " 74%|███████▍  | 742/1000 [00:30<00:12, 21.40it/s]"
     ]
    },
    {
     "name": "stdout",
     "output_type": "stream",
     "text": [
      "Epoch: 738      |       Error: 27.86744\n",
      "Epoch: 739      |       Error: 27.86744\n",
      "Epoch: 740      |       Error: 27.86744\n",
      "Epoch: 741      |       Error: 27.86744\n",
      "Epoch: 742      |       Error: 27.86744\n"
     ]
    },
    {
     "name": "stderr",
     "output_type": "stream",
     "text": [
      " 74%|███████▍  | 745/1000 [00:30<00:11, 21.37it/s]"
     ]
    },
    {
     "name": "stdout",
     "output_type": "stream",
     "text": [
      "Epoch: 743      |       Error: 27.86744\n",
      "Epoch: 744      |       Error: 27.86744\n",
      "Epoch: 745      |       Error: 27.86744\n",
      "Epoch: 746      |       Error: 27.86744\n"
     ]
    },
    {
     "name": "stderr",
     "output_type": "stream",
     "text": [
      " 75%|███████▌  | 750/1000 [00:30<00:13, 18.33it/s]"
     ]
    },
    {
     "name": "stdout",
     "output_type": "stream",
     "text": [
      "Epoch: 747      |       Error: 27.86744\n",
      "Epoch: 748      |       Error: 27.86744\n",
      "Epoch: 749      |       Error: 27.86744\n",
      "Epoch: 750      |       Error: 27.86744\n"
     ]
    },
    {
     "name": "stderr",
     "output_type": "stream",
     "text": [
      " 76%|███████▌  | 755/1000 [00:31<00:12, 19.29it/s]"
     ]
    },
    {
     "name": "stdout",
     "output_type": "stream",
     "text": [
      "Epoch: 751      |       Error: 27.86744\n",
      "Epoch: 752      |       Error: 27.86744\n",
      "Epoch: 753      |       Error: 27.86744\n",
      "Epoch: 754      |       Error: 27.86744\n"
     ]
    },
    {
     "name": "stderr",
     "output_type": "stream",
     "text": [
      " 76%|███████▌  | 761/1000 [00:31<00:11, 21.31it/s]"
     ]
    },
    {
     "name": "stdout",
     "output_type": "stream",
     "text": [
      "Epoch: 755      |       Error: 27.86744\n",
      "Epoch: 756      |       Error: 27.86744\n",
      "Epoch: 757      |       Error: 27.86744\n",
      "Epoch: 758      |       Error: 27.86744\n",
      "Epoch: 759      |       Error: 27.86744\n",
      "Epoch: 760      |       Error: 27.86744\n"
     ]
    },
    {
     "name": "stderr",
     "output_type": "stream",
     "text": [
      " 76%|███████▋  | 764/1000 [00:31<00:10, 21.64it/s]"
     ]
    },
    {
     "name": "stdout",
     "output_type": "stream",
     "text": [
      "Epoch: 761      |       Error: 27.86744\n",
      "Epoch: 762      |       Error: 27.86744\n",
      "Epoch: 763      |       Error: 27.86744\n",
      "Epoch: 764      |       Error: 27.86744\n",
      "Epoch: 765      |       Error: 27.86744\n"
     ]
    },
    {
     "name": "stderr",
     "output_type": "stream",
     "text": [
      " 77%|███████▋  | 771/1000 [00:31<00:09, 23.81it/s]"
     ]
    },
    {
     "name": "stdout",
     "output_type": "stream",
     "text": [
      "Epoch: 766      |       Error: 27.86744\n",
      "Epoch: 767      |       Error: 27.86744\n",
      "Epoch: 768      |       Error: 27.86744\n",
      "Epoch: 769      |       Error: 27.86744\n",
      "Epoch: 770      |       Error: 27.86744\n"
     ]
    },
    {
     "name": "stderr",
     "output_type": "stream",
     "text": [
      " 78%|███████▊  | 777/1000 [00:31<00:08, 25.25it/s]"
     ]
    },
    {
     "name": "stdout",
     "output_type": "stream",
     "text": [
      "Epoch: 771      |       Error: 27.86744\n",
      "Epoch: 772      |       Error: 27.86744\n",
      "Epoch: 773      |       Error: 27.86744\n",
      "Epoch: 774      |       Error: 27.86744\n",
      "Epoch: 775      |       Error: 27.86744\n",
      "Epoch: 776      |       Error: 27.86744\n"
     ]
    },
    {
     "name": "stderr",
     "output_type": "stream",
     "text": [
      " 78%|███████▊  | 783/1000 [00:32<00:08, 25.04it/s]"
     ]
    },
    {
     "name": "stdout",
     "output_type": "stream",
     "text": [
      "Epoch: 777      |       Error: 27.86744\n",
      "Epoch: 778      |       Error: 27.86744\n",
      "Epoch: 779      |       Error: 27.86744\n",
      "Epoch: 780      |       Error: 27.86744\n",
      "Epoch: 781      |       Error: 27.86744\n",
      "Epoch: 782      |       Error: 27.86744\n"
     ]
    },
    {
     "name": "stderr",
     "output_type": "stream",
     "text": [
      " 79%|███████▉  | 789/1000 [00:32<00:08, 25.88it/s]"
     ]
    },
    {
     "name": "stdout",
     "output_type": "stream",
     "text": [
      "Epoch: 783      |       Error: 27.86744\n",
      "Epoch: 784      |       Error: 27.86744\n",
      "Epoch: 785      |       Error: 27.86744\n",
      "Epoch: 786      |       Error: 27.86744\n",
      "Epoch: 787      |       Error: 27.86744\n",
      "Epoch: 788      |       Error: 27.86744\n"
     ]
    },
    {
     "name": "stderr",
     "output_type": "stream",
     "text": [
      " 79%|███████▉  | 792/1000 [00:32<00:08, 25.80it/s]"
     ]
    },
    {
     "name": "stdout",
     "output_type": "stream",
     "text": [
      "Epoch: 789      |       Error: 27.86744\n",
      "Epoch: 790      |       Error: 27.86744\n",
      "Epoch: 791      |       Error: 27.86744\n",
      "Epoch: 792      |       Error: 27.86744\n",
      "Epoch: 793      |       Error: 27.86744\n"
     ]
    },
    {
     "name": "stderr",
     "output_type": "stream",
     "text": [
      " 80%|███████▉  | 798/1000 [00:32<00:09, 21.37it/s]"
     ]
    },
    {
     "name": "stdout",
     "output_type": "stream",
     "text": [
      "Epoch: 794      |       Error: 27.86744\n",
      "Epoch: 795      |       Error: 27.86744\n",
      "Epoch: 796      |       Error: 27.86744\n",
      "Epoch: 797      |       Error: 27.86744\n"
     ]
    },
    {
     "name": "stderr",
     "output_type": "stream",
     "text": [
      " 80%|████████  | 801/1000 [00:32<00:09, 19.91it/s]"
     ]
    },
    {
     "name": "stdout",
     "output_type": "stream",
     "text": [
      "Epoch: 798      |       Error: 27.86744\n",
      "Epoch: 799      |       Error: 27.86744\n",
      "Epoch: 800      |       Error: 27.86744\n",
      "Epoch: 801      |       Error: 27.86744\n"
     ]
    },
    {
     "name": "stderr",
     "output_type": "stream",
     "text": [
      " 80%|████████  | 804/1000 [00:33<00:09, 20.20it/s]"
     ]
    },
    {
     "name": "stdout",
     "output_type": "stream",
     "text": [
      "Epoch: 802      |       Error: 27.86744\n",
      "Epoch: 803      |       Error: 27.86744\n",
      "Epoch: 804      |       Error: 27.86744\n"
     ]
    },
    {
     "name": "stderr",
     "output_type": "stream",
     "text": [
      " 81%|████████  | 809/1000 [00:33<00:11, 16.67it/s]"
     ]
    },
    {
     "name": "stdout",
     "output_type": "stream",
     "text": [
      "Epoch: 805      |       Error: 27.86744\n",
      "Epoch: 806      |       Error: 27.86744\n",
      "Epoch: 807      |       Error: 27.86744\n",
      "Epoch: 808      |       Error: 27.86744\n",
      "Epoch: 809      |       Error: 27.86744\n"
     ]
    },
    {
     "name": "stderr",
     "output_type": "stream",
     "text": [
      " 81%|████████▏ | 814/1000 [00:33<00:09, 18.68it/s]"
     ]
    },
    {
     "name": "stdout",
     "output_type": "stream",
     "text": [
      "Epoch: 810      |       Error: 27.86744\n",
      "Epoch: 811      |       Error: 27.86744\n",
      "Epoch: 812      |       Error: 27.86744\n",
      "Epoch: 813      |       Error: 27.86744\n",
      "Epoch: 814      |       Error: 27.86744\n"
     ]
    },
    {
     "name": "stderr",
     "output_type": "stream",
     "text": [
      " 82%|████████▏ | 820/1000 [00:34<00:08, 20.67it/s]"
     ]
    },
    {
     "name": "stdout",
     "output_type": "stream",
     "text": [
      "Epoch: 815      |       Error: 27.86744\n",
      "Epoch: 816      |       Error: 27.86744\n",
      "Epoch: 817      |       Error: 27.86744\n",
      "Epoch: 818      |       Error: 27.86744\n",
      "Epoch: 819      |       Error: 27.86744\n"
     ]
    },
    {
     "name": "stderr",
     "output_type": "stream",
     "text": [
      " 82%|████████▏ | 823/1000 [00:34<00:08, 21.57it/s]"
     ]
    },
    {
     "name": "stdout",
     "output_type": "stream",
     "text": [
      "Epoch: 820      |       Error: 27.86744\n",
      "Epoch: 821      |       Error: 27.86744\n",
      "Epoch: 822      |       Error: 27.86744\n",
      "Epoch: 823      |       Error: 27.86744\n",
      "Epoch: 824      |       Error: 27.86744\n"
     ]
    },
    {
     "name": "stderr",
     "output_type": "stream",
     "text": [
      " 83%|████████▎ | 829/1000 [00:34<00:08, 19.16it/s]"
     ]
    },
    {
     "name": "stdout",
     "output_type": "stream",
     "text": [
      "Epoch: 825      |       Error: 27.86744\n",
      "Epoch: 826      |       Error: 27.86744\n",
      "Epoch: 827      |       Error: 27.86744\n",
      "Epoch: 828      |       Error: 27.86744\n"
     ]
    },
    {
     "name": "stderr",
     "output_type": "stream",
     "text": [
      " 83%|████████▎ | 833/1000 [00:34<00:08, 18.56it/s]"
     ]
    },
    {
     "name": "stdout",
     "output_type": "stream",
     "text": [
      "Epoch: 829      |       Error: 27.86744\n",
      "Epoch: 830      |       Error: 27.86744\n",
      "Epoch: 831      |       Error: 27.86744\n",
      "Epoch: 832      |       Error: 27.86744\n",
      "Epoch: 833      |       Error: 27.86744\n"
     ]
    },
    {
     "name": "stderr",
     "output_type": "stream",
     "text": [
      " 84%|████████▎ | 837/1000 [00:34<00:09, 16.73it/s]"
     ]
    },
    {
     "name": "stdout",
     "output_type": "stream",
     "text": [
      "Epoch: 834      |       Error: 27.86744\n",
      "Epoch: 835      |       Error: 27.86744\n",
      "Epoch: 836      |       Error: 27.86744\n",
      "Epoch: 837      |       Error: 27.86744\n"
     ]
    },
    {
     "name": "stderr",
     "output_type": "stream",
     "text": [
      " 84%|████████▍ | 841/1000 [00:35<00:08, 18.03it/s]"
     ]
    },
    {
     "name": "stdout",
     "output_type": "stream",
     "text": [
      "Epoch: 838      |       Error: 27.86744\n",
      "Epoch: 839      |       Error: 27.86744\n",
      "Epoch: 840      |       Error: 27.86744\n",
      "Epoch: 841      |       Error: 27.86744\n",
      "Epoch: 842      |       Error: 27.86744\n"
     ]
    },
    {
     "name": "stderr",
     "output_type": "stream",
     "text": [
      " 85%|████████▍ | 847/1000 [00:35<00:06, 21.98it/s]"
     ]
    },
    {
     "name": "stdout",
     "output_type": "stream",
     "text": [
      "Epoch: 843      |       Error: 27.86744\n",
      "Epoch: 844      |       Error: 27.86744\n",
      "Epoch: 845      |       Error: 27.86744\n",
      "Epoch: 846      |       Error: 27.86744\n",
      "Epoch: 847      |       Error: 27.86744\n",
      "Epoch: 848      |       Error: 27.86744\n"
     ]
    },
    {
     "name": "stderr",
     "output_type": "stream",
     "text": [
      " 85%|████████▌ | 853/1000 [00:35<00:05, 25.01it/s]"
     ]
    },
    {
     "name": "stdout",
     "output_type": "stream",
     "text": [
      "Epoch: 849      |       Error: 27.86744\n",
      "Epoch: 850      |       Error: 27.86744\n",
      "Epoch: 851      |       Error: 27.86744\n",
      "Epoch: 852      |       Error: 27.86744\n",
      "Epoch: 853      |       Error: 27.86744\n",
      "Epoch: 854      |       Error: 27.86744\n",
      "Epoch: 855      |       Error: 27.86744\n"
     ]
    },
    {
     "name": "stderr",
     "output_type": "stream",
     "text": [
      " 86%|████████▌ | 860/1000 [00:35<00:05, 27.32it/s]"
     ]
    },
    {
     "name": "stdout",
     "output_type": "stream",
     "text": [
      "Epoch: 856      |       Error: 27.86744\n",
      "Epoch: 857      |       Error: 27.86744\n",
      "Epoch: 858      |       Error: 27.86744\n",
      "Epoch: 859      |       Error: 27.86744\n",
      "Epoch: 860      |       Error: 27.86744\n",
      "Epoch: 861      |       Error: 27.86744\n"
     ]
    },
    {
     "name": "stderr",
     "output_type": "stream",
     "text": [
      " 87%|████████▋ | 866/1000 [00:36<00:05, 26.67it/s]"
     ]
    },
    {
     "name": "stdout",
     "output_type": "stream",
     "text": [
      "Epoch: 862      |       Error: 27.86744\n",
      "Epoch: 863      |       Error: 27.86744\n",
      "Epoch: 864      |       Error: 27.86744\n",
      "Epoch: 865      |       Error: 27.86744\n",
      "Epoch: 866      |       Error: 27.86744\n",
      "Epoch: 867      |       Error: 27.86744\n"
     ]
    },
    {
     "name": "stderr",
     "output_type": "stream",
     "text": [
      " 87%|████████▋ | 872/1000 [00:36<00:04, 27.83it/s]"
     ]
    },
    {
     "name": "stdout",
     "output_type": "stream",
     "text": [
      "Epoch: 868      |       Error: 27.86744\n",
      "Epoch: 869      |       Error: 27.86744\n",
      "Epoch: 870      |       Error: 27.86744\n",
      "Epoch: 871      |       Error: 27.86744\n",
      "Epoch: 872      |       Error: 27.86744\n"
     ]
    },
    {
     "name": "stderr",
     "output_type": "stream",
     "text": [
      " 88%|████████▊ | 875/1000 [00:36<00:05, 24.71it/s]"
     ]
    },
    {
     "name": "stdout",
     "output_type": "stream",
     "text": [
      "Epoch: 873      |       Error: 27.86744\n",
      "Epoch: 874      |       Error: 27.86744\n",
      "Epoch: 875      |       Error: 27.86744\n",
      "Epoch: 876      |       Error: 27.86744\n"
     ]
    },
    {
     "name": "stderr",
     "output_type": "stream",
     "text": [
      " 88%|████████▊ | 881/1000 [00:36<00:05, 22.22it/s]"
     ]
    },
    {
     "name": "stdout",
     "output_type": "stream",
     "text": [
      "Epoch: 877      |       Error: 27.86744\n",
      "Epoch: 878      |       Error: 27.86744\n",
      "Epoch: 879      |       Error: 27.86744\n",
      "Epoch: 880      |       Error: 27.86744\n",
      "Epoch: 881      |       Error: 27.86744\n",
      "Epoch: 882      |       Error: 27.86744\n"
     ]
    },
    {
     "name": "stderr",
     "output_type": "stream",
     "text": [
      " 89%|████████▉ | 888/1000 [00:36<00:04, 26.22it/s]"
     ]
    },
    {
     "name": "stdout",
     "output_type": "stream",
     "text": [
      "Epoch: 883      |       Error: 27.86744\n",
      "Epoch: 884      |       Error: 27.86744\n",
      "Epoch: 885      |       Error: 27.86744\n",
      "Epoch: 886      |       Error: 27.86744\n",
      "Epoch: 887      |       Error: 27.86744\n",
      "Epoch: 888      |       Error: 27.86744\n",
      "Epoch: 889      |       Error: 27.86744\n"
     ]
    },
    {
     "name": "stderr",
     "output_type": "stream",
     "text": [
      " 90%|████████▉ | 896/1000 [00:37<00:03, 30.98it/s]"
     ]
    },
    {
     "name": "stdout",
     "output_type": "stream",
     "text": [
      "Epoch: 890      |       Error: 27.86744\n",
      "Epoch: 891      |       Error: 27.86744\n",
      "Epoch: 892      |       Error: 27.86744\n",
      "Epoch: 893      |       Error: 27.86744\n",
      "Epoch: 894      |       Error: 27.86744\n",
      "Epoch: 895      |       Error: 27.86744\n",
      "Epoch: 896      |       Error: 27.86744\n",
      "Epoch: 897      |       Error: 27.86744\n"
     ]
    },
    {
     "name": "stderr",
     "output_type": "stream",
     "text": [
      " 90%|█████████ | 904/1000 [00:37<00:02, 33.65it/s]"
     ]
    },
    {
     "name": "stdout",
     "output_type": "stream",
     "text": [
      "Epoch: 898      |       Error: 27.86744\n",
      "Epoch: 899      |       Error: 27.86744\n",
      "Epoch: 900      |       Error: 27.86744\n",
      "Epoch: 901      |       Error: 27.86744\n",
      "Epoch: 902      |       Error: 27.86744\n",
      "Epoch: 903      |       Error: 27.86744\n",
      "Epoch: 904      |       Error: 27.86744\n",
      "Epoch: 905      |       Error: 27.86744\n"
     ]
    },
    {
     "name": "stderr",
     "output_type": "stream",
     "text": [
      " 91%|█████████ | 912/1000 [00:37<00:02, 35.08it/s]"
     ]
    },
    {
     "name": "stdout",
     "output_type": "stream",
     "text": [
      "Epoch: 906      |       Error: 27.86744\n",
      "Epoch: 907      |       Error: 27.86744\n",
      "Epoch: 908      |       Error: 27.86744\n",
      "Epoch: 909      |       Error: 27.86744\n",
      "Epoch: 910      |       Error: 27.86744\n",
      "Epoch: 911      |       Error: 27.86744\n",
      "Epoch: 912      |       Error: 27.86744\n",
      "Epoch: 913      |       Error: 27.86744\n"
     ]
    },
    {
     "name": "stderr",
     "output_type": "stream",
     "text": [
      " 92%|█████████▏| 920/1000 [00:37<00:02, 34.96it/s]"
     ]
    },
    {
     "name": "stdout",
     "output_type": "stream",
     "text": [
      "Epoch: 914      |       Error: 27.86744\n",
      "Epoch: 915      |       Error: 27.86744\n",
      "Epoch: 916      |       Error: 27.86744\n",
      "Epoch: 917      |       Error: 27.86744\n",
      "Epoch: 918      |       Error: 27.86744\n",
      "Epoch: 919      |       Error: 27.86744\n",
      "Epoch: 920      |       Error: 27.86744\n",
      "Epoch: 921      |       Error: 27.86744\n"
     ]
    },
    {
     "name": "stderr",
     "output_type": "stream",
     "text": [
      " 93%|█████████▎| 928/1000 [00:38<00:01, 36.93it/s]"
     ]
    },
    {
     "name": "stdout",
     "output_type": "stream",
     "text": [
      "Epoch: 922      |       Error: 27.86744\n",
      "Epoch: 923      |       Error: 27.86744\n",
      "Epoch: 924      |       Error: 27.86744\n",
      "Epoch: 925      |       Error: 27.86744\n",
      "Epoch: 926      |       Error: 27.86744\n",
      "Epoch: 927      |       Error: 27.86744\n",
      "Epoch: 928      |       Error: 27.86744\n",
      "Epoch: 929      |       Error: 27.86744\n"
     ]
    },
    {
     "name": "stderr",
     "output_type": "stream",
     "text": [
      " 94%|█████████▎| 936/1000 [00:38<00:01, 35.86it/s]"
     ]
    },
    {
     "name": "stdout",
     "output_type": "stream",
     "text": [
      "Epoch: 930      |       Error: 27.86744\n",
      "Epoch: 931      |       Error: 27.86744\n",
      "Epoch: 932      |       Error: 27.86744\n",
      "Epoch: 933      |       Error: 27.86744\n",
      "Epoch: 934      |       Error: 27.86744\n",
      "Epoch: 935      |       Error: 27.86744\n",
      "Epoch: 936      |       Error: 27.86744\n"
     ]
    },
    {
     "name": "stderr",
     "output_type": "stream",
     "text": [
      " 94%|█████████▍| 944/1000 [00:38<00:01, 34.72it/s]"
     ]
    },
    {
     "name": "stdout",
     "output_type": "stream",
     "text": [
      "Epoch: 937      |       Error: 27.86744\n",
      "Epoch: 938      |       Error: 27.86744\n",
      "Epoch: 939      |       Error: 27.86744\n",
      "Epoch: 940      |       Error: 27.86744\n",
      "Epoch: 941      |       Error: 27.86744\n",
      "Epoch: 942      |       Error: 27.86744\n",
      "Epoch: 943      |       Error: 27.86744\n"
     ]
    },
    {
     "name": "stderr",
     "output_type": "stream",
     "text": [
      " 95%|█████████▌| 952/1000 [00:38<00:01, 34.80it/s]"
     ]
    },
    {
     "name": "stdout",
     "output_type": "stream",
     "text": [
      "Epoch: 944      |       Error: 27.86744\n",
      "Epoch: 945      |       Error: 27.86744\n",
      "Epoch: 946      |       Error: 27.86744\n",
      "Epoch: 947      |       Error: 27.86744\n",
      "Epoch: 948      |       Error: 27.86744\n",
      "Epoch: 949      |       Error: 27.86744\n",
      "Epoch: 950      |       Error: 27.86744\n",
      "Epoch: 951      |       Error: 27.86744\n"
     ]
    },
    {
     "name": "stderr",
     "output_type": "stream",
     "text": [
      " 96%|█████████▌| 956/1000 [00:38<00:01, 33.28it/s]"
     ]
    },
    {
     "name": "stdout",
     "output_type": "stream",
     "text": [
      "Epoch: 952      |       Error: 27.86744\n",
      "Epoch: 953      |       Error: 27.86744\n",
      "Epoch: 954      |       Error: 27.86744\n",
      "Epoch: 955      |       Error: 27.86744\n",
      "Epoch: 956      |       Error: 27.86744\n",
      "Epoch: 957      |       Error: 27.86744\n",
      "Epoch: 958      |       Error: 27.86744\n"
     ]
    },
    {
     "name": "stderr",
     "output_type": "stream",
     "text": [
      " 96%|█████████▋| 964/1000 [00:39<00:01, 33.13it/s]"
     ]
    },
    {
     "name": "stdout",
     "output_type": "stream",
     "text": [
      "Epoch: 959      |       Error: 27.86744\n",
      "Epoch: 960      |       Error: 27.86744\n",
      "Epoch: 961      |       Error: 27.86744\n",
      "Epoch: 962      |       Error: 27.86744\n",
      "Epoch: 963      |       Error: 27.86744\n",
      "Epoch: 964      |       Error: 27.86744\n",
      "Epoch: 965      |       Error: 27.86744\n",
      "Epoch: 966      |       Error: 27.86744\n"
     ]
    },
    {
     "name": "stderr",
     "output_type": "stream",
     "text": [
      " 97%|█████████▋| 972/1000 [00:39<00:00, 34.87it/s]"
     ]
    },
    {
     "name": "stdout",
     "output_type": "stream",
     "text": [
      "Epoch: 967      |       Error: 27.86744\n",
      "Epoch: 968      |       Error: 27.86744\n",
      "Epoch: 969      |       Error: 27.86744\n",
      "Epoch: 970      |       Error: 27.86744\n",
      "Epoch: 971      |       Error: 27.86744\n",
      "Epoch: 972      |       Error: 27.86744\n",
      "Epoch: 973      |       Error: 27.86744\n",
      "Epoch: 974      |       Error: 27.86744\n",
      "Epoch: 975      |       Error: 27.86744\n"
     ]
    },
    {
     "name": "stderr",
     "output_type": "stream",
     "text": [
      " 98%|█████████▊| 981/1000 [00:39<00:00, 36.20it/s]"
     ]
    },
    {
     "name": "stdout",
     "output_type": "stream",
     "text": [
      "Epoch: 976      |       Error: 27.86744\n",
      "Epoch: 977      |       Error: 27.86744\n",
      "Epoch: 978      |       Error: 27.86744\n",
      "Epoch: 979      |       Error: 27.86744\n",
      "Epoch: 980      |       Error: 27.86744\n",
      "Epoch: 981      |       Error: 27.86744\n",
      "Epoch: 982      |       Error: 27.86744\n",
      "Epoch: 983      |       Error: 27.86744\n"
     ]
    },
    {
     "name": "stderr",
     "output_type": "stream",
     "text": [
      " 99%|█████████▉| 990/1000 [00:39<00:00, 36.81it/s]"
     ]
    },
    {
     "name": "stdout",
     "output_type": "stream",
     "text": [
      "Epoch: 984      |       Error: 27.86744\n",
      "Epoch: 985      |       Error: 27.86744\n",
      "Epoch: 986      |       Error: 27.86744\n",
      "Epoch: 987      |       Error: 27.86744\n",
      "Epoch: 988      |       Error: 27.86744\n",
      "Epoch: 989      |       Error: 27.86744\n",
      "Epoch: 990      |       Error: 27.86744\n"
     ]
    },
    {
     "name": "stderr",
     "output_type": "stream",
     "text": [
      "100%|█████████▉| 998/1000 [00:40<00:00, 36.06it/s]"
     ]
    },
    {
     "name": "stdout",
     "output_type": "stream",
     "text": [
      "Epoch: 991      |       Error: 27.86744\n",
      "Epoch: 992      |       Error: 27.86744\n",
      "Epoch: 993      |       Error: 27.86744\n",
      "Epoch: 994      |       Error: 27.86744\n",
      "Epoch: 995      |       Error: 27.86744\n",
      "Epoch: 996      |       Error: 27.86744\n",
      "Epoch: 997      |       Error: 27.86744\n",
      "Epoch: 998      |       Error: 27.86744\n"
     ]
    },
    {
     "name": "stderr",
     "output_type": "stream",
     "text": [
      "100%|██████████| 1000/1000 [00:40<00:00, 24.94it/s]"
     ]
    },
    {
     "name": "stdout",
     "output_type": "stream",
     "text": [
      "Epoch: 999      |       Error: 27.86744\n"
     ]
    },
    {
     "name": "stderr",
     "output_type": "stream",
     "text": [
      "\n"
     ]
    }
   ],
   "source": [
    "red_entrenada = NeuralNetwork.entrenar_red_neuronal(\n",
    "                                                    red_neuronal_imagenes, \n",
    "                                                    NeuralNetwork.tan_h, \n",
    "                                                    NeuralNetwork.mean_squared_error,\n",
    "                                                    valor_de_prediccion=images_array, \n",
    "                                                    valor_real=images_label, \n",
    "                                                    epochs=1000,\n",
    "                                                    tasa_de_aprendizaje=0.08)"
   ]
  },
  {
   "cell_type": "code",
   "execution_count": 12,
   "metadata": {},
   "outputs": [
    {
     "data": {
      "text/plain": [
       "array([[1., 1., 1.],\n",
       "       [1., 1., 1.],\n",
       "       [1., 1., 1.],\n",
       "       ...,\n",
       "       [1., 1., 1.],\n",
       "       [1., 1., 1.],\n",
       "       [1., 1., 1.]])"
      ]
     },
     "execution_count": 12,
     "metadata": {},
     "output_type": "execute_result"
    }
   ],
   "source": [
    "y_test = NeuralNetwork.predecir(X_test, red_neuronal_imagenes, NeuralNetwork.sigmoide)\n",
    "y_test"
   ]
  }
 ],
 "metadata": {
  "kernelspec": {
   "display_name": "Python 3.10.6 64-bit",
   "language": "python",
   "name": "python3"
  },
  "language_info": {
   "codemirror_mode": {
    "name": "ipython",
    "version": 3
   },
   "file_extension": ".py",
   "mimetype": "text/x-python",
   "name": "python",
   "nbconvert_exporter": "python",
   "pygments_lexer": "ipython3",
   "version": "3.10.6"
  },
  "orig_nbformat": 4,
  "vscode": {
   "interpreter": {
    "hash": "916dbcbb3f70747c44a77c7bcd40155683ae19c65e1c03b4aa3499c5328201f1"
   }
  }
 },
 "nbformat": 4,
 "nbformat_minor": 2
}
