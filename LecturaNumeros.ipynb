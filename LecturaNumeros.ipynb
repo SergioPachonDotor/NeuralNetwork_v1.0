{
 "cells": [
  {
   "cell_type": "code",
   "execution_count": 3,
   "metadata": {},
   "outputs": [],
   "source": [
    "import pandas as pd\n",
    "import numpy as np\n",
    "import matplotlib.pyplot as plt\n",
    "import NeuralNetwork\n",
    "from keras.datasets import mnist"
   ]
  },
  {
   "cell_type": "code",
   "execution_count": 5,
   "metadata": {},
   "outputs": [],
   "source": [
    "test_data = pd.read_csv(\"./Data/mnist_test.csv\")\n",
    "images_array_test = [test_data.loc[i].to_numpy() for i in range(test_data.shape[0])]\n",
    "images_array_test = [images_array_test[i][1:].reshape(28,28) for i in range(test_data.shape[0])]\n",
    "images_label_test  = [test_data.loc[i][0] for i in range(test_data.shape[0])]"
   ]
  },
  {
   "cell_type": "code",
   "execution_count": 6,
   "metadata": {},
   "outputs": [],
   "source": [
    "data = pd.read_csv(\"./Data/mnist_train.csv\")"
   ]
  },
  {
   "cell_type": "code",
   "execution_count": 4,
   "metadata": {},
   "outputs": [],
   "source": [
    "# n_trains = 5000\n",
    "# # X test\n",
    "# X_test = [test_data.loc[i].to_numpy() for i in range(test_data.shape[0])]\n",
    "# X_test = np.array([X_test[i][1:] for i in range(n_trains)])\n",
    "# images_label_xtest  = np.array([test_data.loc[i][0] for i in range(n_trains)])\n",
    "\n",
    "# # X\n",
    "# images_array = [data.loc[i].to_numpy() for i in range(data.shape[0])]\n",
    "# images_array = np.array([images_array[i][1:] for i in range(n_trains)])\n",
    "\n",
    "# # Y\n",
    "# images_label  = np.array([data.loc[i][0] for i in range(n_trains)])\n",
    "# images_label = images_label.reshape(len(images_array), 1)"
   ]
  },
  {
   "cell_type": "code",
   "execution_count": 5,
   "metadata": {},
   "outputs": [],
   "source": [
    "# plt.imshow(images_array[19], cmap=\"gray\")\n",
    "# plt.axis(\"off\")\n",
    "# print(images_label[19])"
   ]
  },
  {
   "cell_type": "code",
   "execution_count": 6,
   "metadata": {},
   "outputs": [],
   "source": [
    "# fixed_data = np.array([data.to_numpy()[i][1:] for i in range(data.shape[0])])\n",
    "# fixed_test_data = np.array([test_data.to_numpy()[i][1:] for i in range(test_data.shape[0])])"
   ]
  },
  {
   "cell_type": "code",
   "execution_count": 7,
   "metadata": {},
   "outputs": [],
   "source": [
    "red_neuronal_imagenes = NeuralNetwork.crear_modelo_de_red([data.shape[1]-1,128, 10])"
   ]
  },
  {
   "cell_type": "code",
   "execution_count": 7,
   "metadata": {},
   "outputs": [
    {
     "name": "stdout",
     "output_type": "stream",
     "text": [
      "[(60000, 784), (60000, 10), 10, 10, 784]\n"
     ]
    }
   ],
   "source": [
    "from keras.utils import np_utils\n",
    "(X_train, y_train), (X_test, y_test) = mnist.load_data()\n",
    "num_pixels = X_train.shape[1] * X_train.shape[2]\n",
    "X_train = X_train.reshape(X_train.shape[0], num_pixels).astype('float32')\n",
    "# normalizamos las entradas desde 0-255 a 0-1\n",
    "X_train = X_train / 255\n",
    "X_test = X_test / 255\n",
    "# una codificacion en caliente a la salida\n",
    "y_train = np_utils.to_categorical(y_train)\n",
    "y_test = np_utils.to_categorical(y_test)\n",
    "num_classes = y_test.shape[1]\n",
    "\n",
    "n_trains = 60000\n",
    "\n",
    "# X test\n",
    "images_array = [data.loc[i].to_numpy() for i in range(data.shape[0])]\n",
    "images_array = np.array([images_array[i][1:] for i in range(n_trains)])\n",
    "\n",
    "print([X_train.shape, y_train.shape, num_classes, num_classes, num_pixels])"
   ]
  },
  {
   "cell_type": "code",
   "execution_count": 17,
   "metadata": {},
   "outputs": [
    {
     "data": {
      "text/plain": [
       "array([0., 0., 0., 0., 0., 1., 0., 0., 0., 0.], dtype=float32)"
      ]
     },
     "execution_count": 17,
     "metadata": {},
     "output_type": "execute_result"
    }
   ],
   "source": [
    "y_train[0]"
   ]
  },
  {
   "cell_type": "code",
   "execution_count": 13,
   "metadata": {},
   "outputs": [
    {
     "name": "stderr",
     "output_type": "stream",
     "text": [
      "100%|██████████| 50/50 [01:43<00:00,  2.07s/it]\n"
     ]
    }
   ],
   "source": [
    "red_entrenada = NeuralNetwork.entrenar_red_neuronal(\n",
    "                                                    red_neuronal_imagenes, \n",
    "                                                    NeuralNetwork.sigmoide, \n",
    "                                                    NeuralNetwork.mean_squared_error,\n",
    "                                                    valor_de_prediccion=X_train, \n",
    "                                                    valor_real=y_train, \n",
    "                                                    epochs=50,\n",
    "                                                    tasa_de_aprendizaje=0.1)"
   ]
  },
  {
   "cell_type": "code",
   "execution_count": 15,
   "metadata": {},
   "outputs": [
    {
     "name": "stdout",
     "output_type": "stream",
     "text": [
      "[[0. 0. 0. 0. 0. 0. 0. 0. 0. 0.]]\n"
     ]
    }
   ],
   "source": [
    "# X test\n",
    "X_test = [test_data.loc[i].to_numpy() for i in range(test_data.shape[0])]\n",
    "X_test = np.array([X_test[i][1:] for i in range(500)])\n",
    "images_label_xtest  = np.array([test_data.loc[i][0] for i in range(500)])\n",
    "\n",
    "y_test = NeuralNetwork.predecir(X_test[1], red_neuronal_imagenes, NeuralNetwork.sigmoide)\n",
    "print(y_test)\n",
    "# print(X_test[0])"
   ]
  }
 ],
 "metadata": {
  "kernelspec": {
   "display_name": "Python 3.10.6 64-bit",
   "language": "python",
   "name": "python3"
  },
  "language_info": {
   "codemirror_mode": {
    "name": "ipython",
    "version": 3
   },
   "file_extension": ".py",
   "mimetype": "text/x-python",
   "name": "python",
   "nbconvert_exporter": "python",
   "pygments_lexer": "ipython3",
   "version": "3.10.6"
  },
  "orig_nbformat": 4,
  "vscode": {
   "interpreter": {
    "hash": "916dbcbb3f70747c44a77c7bcd40155683ae19c65e1c03b4aa3499c5328201f1"
   }
  }
 },
 "nbformat": 4,
 "nbformat_minor": 2
}
